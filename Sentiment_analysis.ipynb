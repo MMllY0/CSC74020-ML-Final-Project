{
  "cells": [
    {
      "cell_type": "markdown",
      "source": [
        "### load data & EDA & preprocessing"
      ],
      "metadata": {
        "id": "X8AlZt5WX2Xm"
      }
    },
    {
      "cell_type": "code",
      "execution_count": 2,
      "metadata": {
        "colab": {
          "base_uri": "https://localhost:8080/"
        },
        "id": "0zA_0KnbBP34",
        "outputId": "6888d9f6-e7d1-4cc9-d559-d01cd8bdb28b"
      },
      "outputs": [
        {
          "output_type": "stream",
          "name": "stdout",
          "text": [
            "Drive already mounted at /content/drive; to attempt to forcibly remount, call drive.mount(\"/content/drive\", force_remount=True).\n"
          ]
        }
      ],
      "source": [
        "from google.colab import drive\n",
        "drive.mount('/content/drive')"
      ]
    },
    {
      "cell_type": "code",
      "execution_count": 3,
      "metadata": {
        "id": "MbkxVVBPBzLl"
      },
      "outputs": [],
      "source": [
        "import pandas as pd\n",
        "\n",
        "df = pd.read_csv('drive/MyDrive/AmazonReviewsData50k.csv')"
      ]
    },
    {
      "cell_type": "code",
      "source": [
        "df.head(5)"
      ],
      "metadata": {
        "colab": {
          "base_uri": "https://localhost:8080/",
          "height": 556
        },
        "id": "qwLfzvPDzs1H",
        "outputId": "7d7a6082-3316-401b-b267-394bd6b311d1"
      },
      "execution_count": null,
      "outputs": [
        {
          "output_type": "execute_result",
          "data": {
            "text/plain": [
              "   Unnamed: 0 marketplace  customer_id       review_id  product_id  \\\n",
              "0     1481534          US     51395713   RHFAVDKYU18Z0  B00J09JWBU   \n",
              "1      734502          US     18231097   RLK6071KOVS5V  B00N15JMAA   \n",
              "2     1427347          US     16317000   ROBIIVOSPSK3U  B00JAFKXR6   \n",
              "3     3246743          US     39975699  R1V01QP7XBBAWD  B00A40AF7E   \n",
              "4      600091          US     47210919  R3J7MEZ8R7LWUJ  B00NW0OPFG   \n",
              "\n",
              "   product_parent                                      product_title  \\\n",
              "0       217162425  Tom's Ware Mens Slim Fit V-neck with Patched P...   \n",
              "1       585615711  Men's Black 5 Button Dress Vest Black for Suit...   \n",
              "2       415956214  Dollie & Me Little Girls' Tank Lace Leotard Sk...   \n",
              "3       721699798  Sons of Anarchy SOA Subliminal Reaper Toddler ...   \n",
              "4       882938162            Wacoal Women's How Perfect Soft Cup Bra   \n",
              "\n",
              "  product_category  star_rating  helpful_votes  total_votes vine  \\\n",
              "0          Apparel          3.0            0.0          0.0    N   \n",
              "1          Apparel          3.0            0.0          0.0    N   \n",
              "2          Apparel          3.0            0.0          0.0    N   \n",
              "3          Apparel          5.0            1.0          1.0    N   \n",
              "4          Apparel          5.0            0.0          0.0    N   \n",
              "\n",
              "  verified_purchase                                    review_headline  \\\n",
              "0                 Y                        Good Quality, but too short   \n",
              "1                 Y                                   OK, but no more.   \n",
              "2                 Y  The leotard did not have enough coverage for t...   \n",
              "3                 Y                                           Adorable   \n",
              "4                 Y                                           Love it!   \n",
              "\n",
              "                                         review_body review_date  \n",
              "0  The shirt arrived promptly and is a very good ...  2014-12-11  \n",
              "1  Tight and buttons are poorly stitched.  They p...  2014-12-31  \n",
              "2  The leotard did not have enough coverage for t...  2014-12-26  \n",
              "3  Wish you made this in Adult Sizes i really lov...  2012-12-26  \n",
              "4  The first one I ordered 34D, the band was too ...  2015-06-04  "
            ],
            "text/html": [
              "\n",
              "  <div id=\"df-e362ad59-6531-4b4f-98d6-752d8a719ca0\" class=\"colab-df-container\">\n",
              "    <div>\n",
              "<style scoped>\n",
              "    .dataframe tbody tr th:only-of-type {\n",
              "        vertical-align: middle;\n",
              "    }\n",
              "\n",
              "    .dataframe tbody tr th {\n",
              "        vertical-align: top;\n",
              "    }\n",
              "\n",
              "    .dataframe thead th {\n",
              "        text-align: right;\n",
              "    }\n",
              "</style>\n",
              "<table border=\"1\" class=\"dataframe\">\n",
              "  <thead>\n",
              "    <tr style=\"text-align: right;\">\n",
              "      <th></th>\n",
              "      <th>Unnamed: 0</th>\n",
              "      <th>marketplace</th>\n",
              "      <th>customer_id</th>\n",
              "      <th>review_id</th>\n",
              "      <th>product_id</th>\n",
              "      <th>product_parent</th>\n",
              "      <th>product_title</th>\n",
              "      <th>product_category</th>\n",
              "      <th>star_rating</th>\n",
              "      <th>helpful_votes</th>\n",
              "      <th>total_votes</th>\n",
              "      <th>vine</th>\n",
              "      <th>verified_purchase</th>\n",
              "      <th>review_headline</th>\n",
              "      <th>review_body</th>\n",
              "      <th>review_date</th>\n",
              "    </tr>\n",
              "  </thead>\n",
              "  <tbody>\n",
              "    <tr>\n",
              "      <th>0</th>\n",
              "      <td>1481534</td>\n",
              "      <td>US</td>\n",
              "      <td>51395713</td>\n",
              "      <td>RHFAVDKYU18Z0</td>\n",
              "      <td>B00J09JWBU</td>\n",
              "      <td>217162425</td>\n",
              "      <td>Tom's Ware Mens Slim Fit V-neck with Patched P...</td>\n",
              "      <td>Apparel</td>\n",
              "      <td>3.0</td>\n",
              "      <td>0.0</td>\n",
              "      <td>0.0</td>\n",
              "      <td>N</td>\n",
              "      <td>Y</td>\n",
              "      <td>Good Quality, but too short</td>\n",
              "      <td>The shirt arrived promptly and is a very good ...</td>\n",
              "      <td>2014-12-11</td>\n",
              "    </tr>\n",
              "    <tr>\n",
              "      <th>1</th>\n",
              "      <td>734502</td>\n",
              "      <td>US</td>\n",
              "      <td>18231097</td>\n",
              "      <td>RLK6071KOVS5V</td>\n",
              "      <td>B00N15JMAA</td>\n",
              "      <td>585615711</td>\n",
              "      <td>Men's Black 5 Button Dress Vest Black for Suit...</td>\n",
              "      <td>Apparel</td>\n",
              "      <td>3.0</td>\n",
              "      <td>0.0</td>\n",
              "      <td>0.0</td>\n",
              "      <td>N</td>\n",
              "      <td>Y</td>\n",
              "      <td>OK, but no more.</td>\n",
              "      <td>Tight and buttons are poorly stitched.  They p...</td>\n",
              "      <td>2014-12-31</td>\n",
              "    </tr>\n",
              "    <tr>\n",
              "      <th>2</th>\n",
              "      <td>1427347</td>\n",
              "      <td>US</td>\n",
              "      <td>16317000</td>\n",
              "      <td>ROBIIVOSPSK3U</td>\n",
              "      <td>B00JAFKXR6</td>\n",
              "      <td>415956214</td>\n",
              "      <td>Dollie &amp; Me Little Girls' Tank Lace Leotard Sk...</td>\n",
              "      <td>Apparel</td>\n",
              "      <td>3.0</td>\n",
              "      <td>0.0</td>\n",
              "      <td>0.0</td>\n",
              "      <td>N</td>\n",
              "      <td>Y</td>\n",
              "      <td>The leotard did not have enough coverage for t...</td>\n",
              "      <td>The leotard did not have enough coverage for t...</td>\n",
              "      <td>2014-12-26</td>\n",
              "    </tr>\n",
              "    <tr>\n",
              "      <th>3</th>\n",
              "      <td>3246743</td>\n",
              "      <td>US</td>\n",
              "      <td>39975699</td>\n",
              "      <td>R1V01QP7XBBAWD</td>\n",
              "      <td>B00A40AF7E</td>\n",
              "      <td>721699798</td>\n",
              "      <td>Sons of Anarchy SOA Subliminal Reaper Toddler ...</td>\n",
              "      <td>Apparel</td>\n",
              "      <td>5.0</td>\n",
              "      <td>1.0</td>\n",
              "      <td>1.0</td>\n",
              "      <td>N</td>\n",
              "      <td>Y</td>\n",
              "      <td>Adorable</td>\n",
              "      <td>Wish you made this in Adult Sizes i really lov...</td>\n",
              "      <td>2012-12-26</td>\n",
              "    </tr>\n",
              "    <tr>\n",
              "      <th>4</th>\n",
              "      <td>600091</td>\n",
              "      <td>US</td>\n",
              "      <td>47210919</td>\n",
              "      <td>R3J7MEZ8R7LWUJ</td>\n",
              "      <td>B00NW0OPFG</td>\n",
              "      <td>882938162</td>\n",
              "      <td>Wacoal Women's How Perfect Soft Cup Bra</td>\n",
              "      <td>Apparel</td>\n",
              "      <td>5.0</td>\n",
              "      <td>0.0</td>\n",
              "      <td>0.0</td>\n",
              "      <td>N</td>\n",
              "      <td>Y</td>\n",
              "      <td>Love it!</td>\n",
              "      <td>The first one I ordered 34D, the band was too ...</td>\n",
              "      <td>2015-06-04</td>\n",
              "    </tr>\n",
              "  </tbody>\n",
              "</table>\n",
              "</div>\n",
              "    <div class=\"colab-df-buttons\">\n",
              "\n",
              "  <div class=\"colab-df-container\">\n",
              "    <button class=\"colab-df-convert\" onclick=\"convertToInteractive('df-e362ad59-6531-4b4f-98d6-752d8a719ca0')\"\n",
              "            title=\"Convert this dataframe to an interactive table.\"\n",
              "            style=\"display:none;\">\n",
              "\n",
              "  <svg xmlns=\"http://www.w3.org/2000/svg\" height=\"24px\" viewBox=\"0 -960 960 960\">\n",
              "    <path d=\"M120-120v-720h720v720H120Zm60-500h600v-160H180v160Zm220 220h160v-160H400v160Zm0 220h160v-160H400v160ZM180-400h160v-160H180v160Zm440 0h160v-160H620v160ZM180-180h160v-160H180v160Zm440 0h160v-160H620v160Z\"/>\n",
              "  </svg>\n",
              "    </button>\n",
              "\n",
              "  <style>\n",
              "    .colab-df-container {\n",
              "      display:flex;\n",
              "      gap: 12px;\n",
              "    }\n",
              "\n",
              "    .colab-df-convert {\n",
              "      background-color: #E8F0FE;\n",
              "      border: none;\n",
              "      border-radius: 50%;\n",
              "      cursor: pointer;\n",
              "      display: none;\n",
              "      fill: #1967D2;\n",
              "      height: 32px;\n",
              "      padding: 0 0 0 0;\n",
              "      width: 32px;\n",
              "    }\n",
              "\n",
              "    .colab-df-convert:hover {\n",
              "      background-color: #E2EBFA;\n",
              "      box-shadow: 0px 1px 2px rgba(60, 64, 67, 0.3), 0px 1px 3px 1px rgba(60, 64, 67, 0.15);\n",
              "      fill: #174EA6;\n",
              "    }\n",
              "\n",
              "    .colab-df-buttons div {\n",
              "      margin-bottom: 4px;\n",
              "    }\n",
              "\n",
              "    [theme=dark] .colab-df-convert {\n",
              "      background-color: #3B4455;\n",
              "      fill: #D2E3FC;\n",
              "    }\n",
              "\n",
              "    [theme=dark] .colab-df-convert:hover {\n",
              "      background-color: #434B5C;\n",
              "      box-shadow: 0px 1px 3px 1px rgba(0, 0, 0, 0.15);\n",
              "      filter: drop-shadow(0px 1px 2px rgba(0, 0, 0, 0.3));\n",
              "      fill: #FFFFFF;\n",
              "    }\n",
              "  </style>\n",
              "\n",
              "    <script>\n",
              "      const buttonEl =\n",
              "        document.querySelector('#df-e362ad59-6531-4b4f-98d6-752d8a719ca0 button.colab-df-convert');\n",
              "      buttonEl.style.display =\n",
              "        google.colab.kernel.accessAllowed ? 'block' : 'none';\n",
              "\n",
              "      async function convertToInteractive(key) {\n",
              "        const element = document.querySelector('#df-e362ad59-6531-4b4f-98d6-752d8a719ca0');\n",
              "        const dataTable =\n",
              "          await google.colab.kernel.invokeFunction('convertToInteractive',\n",
              "                                                    [key], {});\n",
              "        if (!dataTable) return;\n",
              "\n",
              "        const docLinkHtml = 'Like what you see? Visit the ' +\n",
              "          '<a target=\"_blank\" href=https://colab.research.google.com/notebooks/data_table.ipynb>data table notebook</a>'\n",
              "          + ' to learn more about interactive tables.';\n",
              "        element.innerHTML = '';\n",
              "        dataTable['output_type'] = 'display_data';\n",
              "        await google.colab.output.renderOutput(dataTable, element);\n",
              "        const docLink = document.createElement('div');\n",
              "        docLink.innerHTML = docLinkHtml;\n",
              "        element.appendChild(docLink);\n",
              "      }\n",
              "    </script>\n",
              "  </div>\n",
              "\n",
              "\n",
              "<div id=\"df-ac9765a7-e969-4e02-9afc-670f89119ab8\">\n",
              "  <button class=\"colab-df-quickchart\" onclick=\"quickchart('df-ac9765a7-e969-4e02-9afc-670f89119ab8')\"\n",
              "            title=\"Suggest charts\"\n",
              "            style=\"display:none;\">\n",
              "\n",
              "<svg xmlns=\"http://www.w3.org/2000/svg\" height=\"24px\"viewBox=\"0 0 24 24\"\n",
              "     width=\"24px\">\n",
              "    <g>\n",
              "        <path d=\"M19 3H5c-1.1 0-2 .9-2 2v14c0 1.1.9 2 2 2h14c1.1 0 2-.9 2-2V5c0-1.1-.9-2-2-2zM9 17H7v-7h2v7zm4 0h-2V7h2v10zm4 0h-2v-4h2v4z\"/>\n",
              "    </g>\n",
              "</svg>\n",
              "  </button>\n",
              "\n",
              "<style>\n",
              "  .colab-df-quickchart {\n",
              "      --bg-color: #E8F0FE;\n",
              "      --fill-color: #1967D2;\n",
              "      --hover-bg-color: #E2EBFA;\n",
              "      --hover-fill-color: #174EA6;\n",
              "      --disabled-fill-color: #AAA;\n",
              "      --disabled-bg-color: #DDD;\n",
              "  }\n",
              "\n",
              "  [theme=dark] .colab-df-quickchart {\n",
              "      --bg-color: #3B4455;\n",
              "      --fill-color: #D2E3FC;\n",
              "      --hover-bg-color: #434B5C;\n",
              "      --hover-fill-color: #FFFFFF;\n",
              "      --disabled-bg-color: #3B4455;\n",
              "      --disabled-fill-color: #666;\n",
              "  }\n",
              "\n",
              "  .colab-df-quickchart {\n",
              "    background-color: var(--bg-color);\n",
              "    border: none;\n",
              "    border-radius: 50%;\n",
              "    cursor: pointer;\n",
              "    display: none;\n",
              "    fill: var(--fill-color);\n",
              "    height: 32px;\n",
              "    padding: 0;\n",
              "    width: 32px;\n",
              "  }\n",
              "\n",
              "  .colab-df-quickchart:hover {\n",
              "    background-color: var(--hover-bg-color);\n",
              "    box-shadow: 0 1px 2px rgba(60, 64, 67, 0.3), 0 1px 3px 1px rgba(60, 64, 67, 0.15);\n",
              "    fill: var(--button-hover-fill-color);\n",
              "  }\n",
              "\n",
              "  .colab-df-quickchart-complete:disabled,\n",
              "  .colab-df-quickchart-complete:disabled:hover {\n",
              "    background-color: var(--disabled-bg-color);\n",
              "    fill: var(--disabled-fill-color);\n",
              "    box-shadow: none;\n",
              "  }\n",
              "\n",
              "  .colab-df-spinner {\n",
              "    border: 2px solid var(--fill-color);\n",
              "    border-color: transparent;\n",
              "    border-bottom-color: var(--fill-color);\n",
              "    animation:\n",
              "      spin 1s steps(1) infinite;\n",
              "  }\n",
              "\n",
              "  @keyframes spin {\n",
              "    0% {\n",
              "      border-color: transparent;\n",
              "      border-bottom-color: var(--fill-color);\n",
              "      border-left-color: var(--fill-color);\n",
              "    }\n",
              "    20% {\n",
              "      border-color: transparent;\n",
              "      border-left-color: var(--fill-color);\n",
              "      border-top-color: var(--fill-color);\n",
              "    }\n",
              "    30% {\n",
              "      border-color: transparent;\n",
              "      border-left-color: var(--fill-color);\n",
              "      border-top-color: var(--fill-color);\n",
              "      border-right-color: var(--fill-color);\n",
              "    }\n",
              "    40% {\n",
              "      border-color: transparent;\n",
              "      border-right-color: var(--fill-color);\n",
              "      border-top-color: var(--fill-color);\n",
              "    }\n",
              "    60% {\n",
              "      border-color: transparent;\n",
              "      border-right-color: var(--fill-color);\n",
              "    }\n",
              "    80% {\n",
              "      border-color: transparent;\n",
              "      border-right-color: var(--fill-color);\n",
              "      border-bottom-color: var(--fill-color);\n",
              "    }\n",
              "    90% {\n",
              "      border-color: transparent;\n",
              "      border-bottom-color: var(--fill-color);\n",
              "    }\n",
              "  }\n",
              "</style>\n",
              "\n",
              "  <script>\n",
              "    async function quickchart(key) {\n",
              "      const quickchartButtonEl =\n",
              "        document.querySelector('#' + key + ' button');\n",
              "      quickchartButtonEl.disabled = true;  // To prevent multiple clicks.\n",
              "      quickchartButtonEl.classList.add('colab-df-spinner');\n",
              "      try {\n",
              "        const charts = await google.colab.kernel.invokeFunction(\n",
              "            'suggestCharts', [key], {});\n",
              "      } catch (error) {\n",
              "        console.error('Error during call to suggestCharts:', error);\n",
              "      }\n",
              "      quickchartButtonEl.classList.remove('colab-df-spinner');\n",
              "      quickchartButtonEl.classList.add('colab-df-quickchart-complete');\n",
              "    }\n",
              "    (() => {\n",
              "      let quickchartButtonEl =\n",
              "        document.querySelector('#df-ac9765a7-e969-4e02-9afc-670f89119ab8 button');\n",
              "      quickchartButtonEl.style.display =\n",
              "        google.colab.kernel.accessAllowed ? 'block' : 'none';\n",
              "    })();\n",
              "  </script>\n",
              "</div>\n",
              "\n",
              "    </div>\n",
              "  </div>\n"
            ]
          },
          "metadata": {},
          "execution_count": 3
        }
      ]
    },
    {
      "cell_type": "code",
      "source": [
        "df.shape"
      ],
      "metadata": {
        "colab": {
          "base_uri": "https://localhost:8080/"
        },
        "id": "S7UBfqtzY6Ka",
        "outputId": "9df06321-867c-4ba7-844d-46e78e29c672"
      },
      "execution_count": 4,
      "outputs": [
        {
          "output_type": "execute_result",
          "data": {
            "text/plain": [
              "(50000, 16)"
            ]
          },
          "metadata": {},
          "execution_count": 4
        }
      ]
    },
    {
      "cell_type": "code",
      "source": [
        "# target variable\n",
        "df.star_rating.value_counts()"
      ],
      "metadata": {
        "colab": {
          "base_uri": "https://localhost:8080/"
        },
        "id": "temTTyyVb4Vk",
        "outputId": "de59aabd-970c-4a3b-f047-c19074c7336a"
      },
      "execution_count": 5,
      "outputs": [
        {
          "output_type": "execute_result",
          "data": {
            "text/plain": [
              "5.0    28088\n",
              "4.0     9596\n",
              "3.0     5360\n",
              "1.0     3846\n",
              "2.0     3110\n",
              "Name: star_rating, dtype: int64"
            ]
          },
          "metadata": {},
          "execution_count": 5
        }
      ]
    },
    {
      "cell_type": "code",
      "source": [
        "df['star_rating'].value_counts().plot(kind='bar')"
      ],
      "metadata": {
        "colab": {
          "base_uri": "https://localhost:8080/",
          "height": 455
        },
        "id": "MyxSe5oPcn16",
        "outputId": "e48df6c4-153f-4f24-f44a-07e9bf207c39"
      },
      "execution_count": null,
      "outputs": [
        {
          "output_type": "execute_result",
          "data": {
            "text/plain": [
              "<Axes: >"
            ]
          },
          "metadata": {},
          "execution_count": 6
        },
        {
          "output_type": "display_data",
          "data": {
            "text/plain": [
              "<Figure size 640x480 with 1 Axes>"
            ],
            "image/png": "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\n"
          },
          "metadata": {}
        }
      ]
    },
    {
      "cell_type": "code",
      "execution_count": 6,
      "metadata": {
        "colab": {
          "base_uri": "https://localhost:8080/"
        },
        "id": "zc9YU_Y32hgx",
        "outputId": "ab33cde1-c9e7-4e52-e5a9-1e2ec0de94dd"
      },
      "outputs": [
        {
          "output_type": "stream",
          "name": "stdout",
          "text": [
            "False\n",
            "False\n"
          ]
        }
      ],
      "source": [
        "# drop any NaN reviews/ratings\n",
        "print(df.review_body.isnull().any())\n",
        "print(df.star_rating.isnull().any())"
      ]
    },
    {
      "cell_type": "code",
      "source": [
        "df.shape[0]*.8"
      ],
      "metadata": {
        "colab": {
          "base_uri": "https://localhost:8080/"
        },
        "id": "sgB1IgJjZUxY",
        "outputId": "2289d39a-2412-4d6f-8622-50d563bf3b6f"
      },
      "execution_count": 7,
      "outputs": [
        {
          "output_type": "execute_result",
          "data": {
            "text/plain": [
              "40000.0"
            ]
          },
          "metadata": {},
          "execution_count": 7
        }
      ]
    },
    {
      "cell_type": "code",
      "execution_count": 8,
      "metadata": {
        "id": "qonbPrcKB7by"
      },
      "outputs": [],
      "source": [
        "# split data into 80% train and 20% test\n",
        "train = df[:40000]\n",
        "test = df[40000:]"
      ]
    },
    {
      "cell_type": "code",
      "execution_count": 9,
      "metadata": {
        "id": "q-p1MUlPCAkr"
      },
      "outputs": [],
      "source": [
        "# review_body as text input\n",
        "train_text = train['review_body']\n",
        "test_text = test['review_body']"
      ]
    },
    {
      "cell_type": "code",
      "execution_count": 10,
      "metadata": {
        "colab": {
          "base_uri": "https://localhost:8080/"
        },
        "id": "IQsd0g1iCjQA",
        "outputId": "eb8dd891-25dd-4824-91e8-b4b48ee92acd",
        "scrolled": true
      },
      "outputs": [
        {
          "output_type": "stream",
          "name": "stderr",
          "text": [
            "<ipython-input-10-5c08c92b9943>:2: SettingWithCopyWarning: \n",
            "A value is trying to be set on a copy of a slice from a DataFrame.\n",
            "Try using .loc[row_indexer,col_indexer] = value instead\n",
            "\n",
            "See the caveats in the documentation: https://pandas.pydata.org/pandas-docs/stable/user_guide/indexing.html#returning-a-view-versus-a-copy\n",
            "  train['rating'] = train['star_rating'] > 3\n",
            "<ipython-input-10-5c08c92b9943>:3: SettingWithCopyWarning: \n",
            "A value is trying to be set on a copy of a slice from a DataFrame.\n",
            "Try using .loc[row_indexer,col_indexer] = value instead\n",
            "\n",
            "See the caveats in the documentation: https://pandas.pydata.org/pandas-docs/stable/user_guide/indexing.html#returning-a-view-versus-a-copy\n",
            "  train['rating'] = train.rating.astype(int)\n",
            "<ipython-input-10-5c08c92b9943>:4: SettingWithCopyWarning: \n",
            "A value is trying to be set on a copy of a slice from a DataFrame.\n",
            "Try using .loc[row_indexer,col_indexer] = value instead\n",
            "\n",
            "See the caveats in the documentation: https://pandas.pydata.org/pandas-docs/stable/user_guide/indexing.html#returning-a-view-versus-a-copy\n",
            "  test['rating'] = test['star_rating'] >3\n",
            "<ipython-input-10-5c08c92b9943>:5: SettingWithCopyWarning: \n",
            "A value is trying to be set on a copy of a slice from a DataFrame.\n",
            "Try using .loc[row_indexer,col_indexer] = value instead\n",
            "\n",
            "See the caveats in the documentation: https://pandas.pydata.org/pandas-docs/stable/user_guide/indexing.html#returning-a-view-versus-a-copy\n",
            "  test['rating'] = test.rating.astype(int)\n"
          ]
        }
      ],
      "source": [
        "# binary classification\n",
        "train['rating'] = train['star_rating'] > 3\n",
        "train['rating'] = train.rating.astype(int)\n",
        "test['rating'] = test['star_rating'] >3\n",
        "test['rating'] = test.rating.astype(int)"
      ]
    },
    {
      "cell_type": "code",
      "source": [
        "train['star_rating'] = train['star_rating'] - 1\n",
        "test['star_rating'] = test['star_rating'] - 1"
      ],
      "metadata": {
        "colab": {
          "base_uri": "https://localhost:8080/"
        },
        "id": "DtAHLT-ebGIW",
        "outputId": "1c65ae90-cad0-4349-ef1c-493136cf3a49"
      },
      "execution_count": 11,
      "outputs": [
        {
          "output_type": "stream",
          "name": "stderr",
          "text": [
            "<ipython-input-11-4cc6ed499fd2>:1: SettingWithCopyWarning: \n",
            "A value is trying to be set on a copy of a slice from a DataFrame.\n",
            "Try using .loc[row_indexer,col_indexer] = value instead\n",
            "\n",
            "See the caveats in the documentation: https://pandas.pydata.org/pandas-docs/stable/user_guide/indexing.html#returning-a-view-versus-a-copy\n",
            "  train['star_rating'] = train['star_rating'] - 1\n",
            "<ipython-input-11-4cc6ed499fd2>:2: SettingWithCopyWarning: \n",
            "A value is trying to be set on a copy of a slice from a DataFrame.\n",
            "Try using .loc[row_indexer,col_indexer] = value instead\n",
            "\n",
            "See the caveats in the documentation: https://pandas.pydata.org/pandas-docs/stable/user_guide/indexing.html#returning-a-view-versus-a-copy\n",
            "  test['star_rating'] = test['star_rating'] - 1\n"
          ]
        }
      ]
    },
    {
      "cell_type": "code",
      "source": [
        "train['star_rating'] = train.star_rating.astype(int)\n",
        "test['star_rating'] = test.star_rating.astype(int)"
      ],
      "metadata": {
        "colab": {
          "base_uri": "https://localhost:8080/"
        },
        "id": "dX26HP11dy8l",
        "outputId": "97775c18-c66f-425c-a238-5d9dc6ed079e"
      },
      "execution_count": 12,
      "outputs": [
        {
          "output_type": "stream",
          "name": "stderr",
          "text": [
            "<ipython-input-12-c9895efce08b>:1: SettingWithCopyWarning: \n",
            "A value is trying to be set on a copy of a slice from a DataFrame.\n",
            "Try using .loc[row_indexer,col_indexer] = value instead\n",
            "\n",
            "See the caveats in the documentation: https://pandas.pydata.org/pandas-docs/stable/user_guide/indexing.html#returning-a-view-versus-a-copy\n",
            "  train['star_rating'] = train.star_rating.astype(int)\n",
            "<ipython-input-12-c9895efce08b>:2: SettingWithCopyWarning: \n",
            "A value is trying to be set on a copy of a slice from a DataFrame.\n",
            "Try using .loc[row_indexer,col_indexer] = value instead\n",
            "\n",
            "See the caveats in the documentation: https://pandas.pydata.org/pandas-docs/stable/user_guide/indexing.html#returning-a-view-versus-a-copy\n",
            "  test['star_rating'] = test.star_rating.astype(int)\n"
          ]
        }
      ]
    },
    {
      "cell_type": "code",
      "source": [
        "# labels need to start from 0\n",
        "\n",
        "print(train['star_rating'].unique())\n",
        "print(train['rating'].unique())"
      ],
      "metadata": {
        "colab": {
          "base_uri": "https://localhost:8080/"
        },
        "id": "RDNOHunFbMWq",
        "outputId": "1b825ed7-fd99-453a-bfbd-64f807f47004"
      },
      "execution_count": 13,
      "outputs": [
        {
          "output_type": "stream",
          "name": "stdout",
          "text": [
            "[2 4 0 3 1]\n",
            "[0 1]\n"
          ]
        }
      ]
    },
    {
      "cell_type": "markdown",
      "source": [
        "### tokenize input & train model\n",
        "\n",
        "fine tuning code from:\n",
        "https://huggingface.co/transformers/v3.2.0/custom_datasets.html"
      ],
      "metadata": {
        "id": "htMMeuCCZmx0"
      }
    },
    {
      "cell_type": "code",
      "execution_count": 14,
      "metadata": {
        "id": "f3LJZ66VBsSy",
        "colab": {
          "base_uri": "https://localhost:8080/",
          "height": 145,
          "referenced_widgets": [
            "efa4e9fffe494b428aeb90c9e2731943",
            "8ebb86c96e904e53b79dac0aff454cc0",
            "ce99e24d8f1c4daabb0d662d094fe13f",
            "6f012a6d35424862bd2beaf6d5864d6d",
            "7ab2f2dc487640679e035228b50daddc",
            "9f66455a21c84781ab899d045fe45c77",
            "117c527f522c4328a9c6a1cfff33deb8",
            "57c5f4aa5bc742628a5480bcf7c01c08",
            "e89b6bed0da54073bfdacffd86e37289",
            "0e13cf86d24344598bca19ab647e95f0",
            "b769725ab739406898f2fa9ece09c5ef",
            "4d491e9d2d4142599f541226f60f1839",
            "1a4b6f1f1a50421397ef6465e35fc2af",
            "07aee57258814d5aa9a8a86a14fe77e3",
            "e317104f6f0148f59352b28e6fbbd4c0",
            "1b41cb393a474997ace86045cf2522a7",
            "32fc0f3fe35c45308fb0057e57de9ecc",
            "91dcba273fe649b0b0a2168926adc7bd",
            "53303bb8d915404b9257496990cad775",
            "744abd97ae3f44ca9a91c4aa2af6b723",
            "2fcfa75cc011440bb225603cebed9d65",
            "f965e73a846d45de8a77bca548003f5b",
            "4da180c802f2462a9d84a732fb9c6334",
            "99e7eb556f4c4c7bb45b6b29c499ba83",
            "f6cb16ba06e34782908a738473b925ad",
            "b3f0b6eab2ab49b8a8c549050010c77a",
            "550ea3a805ed48c7b777d65c58f326f6",
            "b7bacdedc67148a1953f8df69743aa30",
            "264cd6c58e134c95898327b09ebe881b",
            "1e121792bb07422e8080f531fd3c0e4f",
            "271f11aa69dd42ceac0da2a5dda8bf7d",
            "2c1500fc1723450ba179feaadcc7b066",
            "cf038d36cf5b4edc9b13957a81ed9aed",
            "8f2b74bbd7e2451f872892edee39231b",
            "f90d9151beda496ca1b443233198af16",
            "0c64354188934606b4411f4c51fd9cf4",
            "cc3b34843f3647af8fd14b973fe6d373",
            "bbc752fc2c06444d8b36c1106d41172b",
            "73404b0faee648589a320cab4c63a5f8",
            "5d913bd1e1104f4099ce36d9e8950bc2",
            "84b98f788b0d40f0908cad249ac1cbfb",
            "3c4412c09362423ead05cfea5734f5a5",
            "7ae73f5000104b0793fba108e8dc27b4",
            "6bb04ee62d04493f94bc97dd7093adb5"
          ]
        },
        "outputId": "17f2a62f-5ff0-4cd4-e608-9ed94477867f"
      },
      "outputs": [
        {
          "output_type": "display_data",
          "data": {
            "text/plain": [
              "tokenizer_config.json:   0%|          | 0.00/28.0 [00:00<?, ?B/s]"
            ],
            "application/vnd.jupyter.widget-view+json": {
              "version_major": 2,
              "version_minor": 0,
              "model_id": "efa4e9fffe494b428aeb90c9e2731943"
            }
          },
          "metadata": {}
        },
        {
          "output_type": "display_data",
          "data": {
            "text/plain": [
              "vocab.txt:   0%|          | 0.00/232k [00:00<?, ?B/s]"
            ],
            "application/vnd.jupyter.widget-view+json": {
              "version_major": 2,
              "version_minor": 0,
              "model_id": "4d491e9d2d4142599f541226f60f1839"
            }
          },
          "metadata": {}
        },
        {
          "output_type": "display_data",
          "data": {
            "text/plain": [
              "tokenizer.json:   0%|          | 0.00/466k [00:00<?, ?B/s]"
            ],
            "application/vnd.jupyter.widget-view+json": {
              "version_major": 2,
              "version_minor": 0,
              "model_id": "4da180c802f2462a9d84a732fb9c6334"
            }
          },
          "metadata": {}
        },
        {
          "output_type": "display_data",
          "data": {
            "text/plain": [
              "config.json:   0%|          | 0.00/483 [00:00<?, ?B/s]"
            ],
            "application/vnd.jupyter.widget-view+json": {
              "version_major": 2,
              "version_minor": 0,
              "model_id": "8f2b74bbd7e2451f872892edee39231b"
            }
          },
          "metadata": {}
        }
      ],
      "source": [
        "from transformers import DistilBertTokenizerFast\n",
        "\n",
        "# use pretrained tokenizer for bert\n",
        "\n",
        "tokenizer = DistilBertTokenizerFast.from_pretrained('distilbert-base-uncased', do_lower_case=True)"
      ]
    },
    {
      "cell_type": "code",
      "execution_count": 15,
      "metadata": {
        "id": "1M9WOmG_B4Tm"
      },
      "outputs": [],
      "source": [
        "# tokenize text data\n",
        "\n",
        "train_tokenized = tokenizer(list(train_text), truncation=True, padding=True)\n",
        "test_tokenized = tokenizer(list(test_text), truncation=True, padding=True)"
      ]
    },
    {
      "cell_type": "code",
      "execution_count": 16,
      "metadata": {
        "id": "lN7du3DwCbMf"
      },
      "outputs": [],
      "source": [
        "# 5 labels\n",
        "train_label = list(train['star_rating'])\n",
        "test_label = list(test['star_rating'])\n",
        "\n",
        "# binary\n",
        "train_label_binary = list(train['rating'])\n",
        "test_label_binary = list(test['rating'])"
      ]
    },
    {
      "cell_type": "code",
      "execution_count": 17,
      "metadata": {
        "id": "N_W5LDHeCRsf"
      },
      "outputs": [],
      "source": [
        "import numpy as np\n",
        "import torch\n",
        "from torch.utils.data import Dataset\n",
        "\n",
        "# create custom dataset class\n",
        "\n",
        "class AmazonReview(Dataset):\n",
        "    def __init__(self, tokens, labels):\n",
        "        # review_body\n",
        "        self.tokens = tokens\n",
        "        # star_rating\n",
        "        self.labels = labels\n",
        "\n",
        "    def __len__(self):\n",
        "        return len(self.labels)\n",
        "\n",
        "    def __getitem__(self, idx):\n",
        "        # input_ids, attention_mask\n",
        "        item = {key: torch.tensor(value[idx]) for key, value in self.tokens.items()}\n",
        "        # star_rating\n",
        "        item['labels'] = torch.tensor(self.labels[idx])\n",
        "        return item\n"
      ]
    },
    {
      "cell_type": "code",
      "source": [
        "train_dataset = AmazonReview(train_tokenized, list(train_label))\n",
        "test_dataset = AmazonReview(test_tokenized, list(test_label))\n",
        "\n",
        "train_dataset_binary = AmazonReview(train_tokenized, list(train_label_binary))\n",
        "test_dataset_binary = AmazonReview(test_tokenized, list(test_label_binary))"
      ],
      "metadata": {
        "id": "h-jwE7rQaCoG"
      },
      "execution_count": 18,
      "outputs": []
    },
    {
      "cell_type": "code",
      "source": [
        "train_dataset[0]"
      ],
      "metadata": {
        "colab": {
          "base_uri": "https://localhost:8080/"
        },
        "id": "QWDmmpgbPsjJ",
        "outputId": "b060cc7c-0c67-4c68-d8f3-075a6d71114c"
      },
      "execution_count": 33,
      "outputs": [
        {
          "output_type": "execute_result",
          "data": {
            "text/plain": [
              "{'input_ids': tensor([  101,  1996,  3797,  3369, 13364,  1998,  2003,  1037,  2200,  2204,\n",
              "          3737,  1010,  2021,  2009,  2003,  2205,  2460,  1012,  2002,  2003,\n",
              "          1019,  1005,  2184,  1004,  1001,  4090,  1025,  1998,  2009,  4510,\n",
              "          4978,  2917,  2010,  5583,  1012,  2002,  4669,  1996,  3797,  1037,\n",
              "          2843,  2061,  2057,  2134,  1005,  1056,  2709,  2009,  1010,  2021,\n",
              "          2002,  2097,  2342,  2000,  4929,  2009,  2007,  1037,  2146,  1056,\n",
              "          1011,  3797,  7650,  1012,  2028,  3893,  2036,  2003,  2008,  2002,\n",
              "          2038,  2019,  6034,  5188,  3857,  1006,  5041,  4065,  1998,  2235,\n",
              "          5808,  1007,  1998,  2045,  2001,  2025,  1996,  5156,  4524, 11528,\n",
              "          7971,  1999,  1996,  5808,  2008,  2002,  2823,  4152,  2043,  9343,\n",
              "          1037,  3797,  2008, 16142,  2010,  4065,  1998,  2608,  1012,  2009,\n",
              "          2052,  2031,  2042,  3819,  2065,  2009,  2020,  1037,  3232,  5282,\n",
              "          2936,  1012,   102,     0,     0,     0,     0,     0,     0,     0,\n",
              "             0,     0,     0,     0,     0,     0,     0,     0,     0,     0,\n",
              "             0,     0,     0,     0,     0,     0,     0,     0,     0,     0,\n",
              "             0,     0,     0,     0,     0,     0,     0,     0,     0,     0,\n",
              "             0,     0,     0,     0,     0,     0,     0,     0,     0,     0,\n",
              "             0,     0,     0,     0,     0,     0,     0,     0,     0,     0,\n",
              "             0,     0,     0,     0,     0,     0,     0,     0,     0,     0,\n",
              "             0,     0,     0,     0,     0,     0,     0,     0,     0,     0,\n",
              "             0,     0,     0,     0,     0,     0,     0,     0,     0,     0,\n",
              "             0,     0,     0,     0,     0,     0,     0,     0,     0,     0,\n",
              "             0,     0,     0,     0,     0,     0,     0,     0,     0,     0,\n",
              "             0,     0,     0,     0,     0,     0,     0,     0,     0,     0,\n",
              "             0,     0,     0,     0,     0,     0,     0,     0,     0,     0,\n",
              "             0,     0,     0,     0,     0,     0,     0,     0,     0,     0,\n",
              "             0,     0,     0,     0,     0,     0,     0,     0,     0,     0,\n",
              "             0,     0,     0,     0,     0,     0,     0,     0,     0,     0,\n",
              "             0,     0,     0,     0,     0,     0,     0,     0,     0,     0,\n",
              "             0,     0,     0,     0,     0,     0,     0,     0,     0,     0,\n",
              "             0,     0,     0,     0,     0,     0,     0,     0,     0,     0,\n",
              "             0,     0,     0,     0,     0,     0,     0,     0,     0,     0,\n",
              "             0,     0,     0,     0,     0,     0,     0,     0,     0,     0,\n",
              "             0,     0,     0,     0,     0,     0,     0,     0,     0,     0,\n",
              "             0,     0,     0,     0,     0,     0,     0,     0,     0,     0,\n",
              "             0,     0,     0,     0,     0,     0,     0,     0,     0,     0,\n",
              "             0,     0,     0,     0,     0,     0,     0,     0,     0,     0,\n",
              "             0,     0,     0,     0,     0,     0,     0,     0,     0,     0,\n",
              "             0,     0,     0,     0,     0,     0,     0,     0,     0,     0,\n",
              "             0,     0,     0,     0,     0,     0,     0,     0,     0,     0,\n",
              "             0,     0,     0,     0,     0,     0,     0,     0,     0,     0,\n",
              "             0,     0,     0,     0,     0,     0,     0,     0,     0,     0,\n",
              "             0,     0,     0,     0,     0,     0,     0,     0,     0,     0,\n",
              "             0,     0,     0,     0,     0,     0,     0,     0,     0,     0,\n",
              "             0,     0,     0,     0,     0,     0,     0,     0,     0,     0,\n",
              "             0,     0,     0,     0,     0,     0,     0,     0,     0,     0,\n",
              "             0,     0,     0,     0,     0,     0,     0,     0,     0,     0,\n",
              "             0,     0,     0,     0,     0,     0,     0,     0,     0,     0,\n",
              "             0,     0,     0,     0,     0,     0,     0,     0,     0,     0,\n",
              "             0,     0,     0,     0,     0,     0,     0,     0,     0,     0,\n",
              "             0,     0,     0,     0,     0,     0,     0,     0,     0,     0,\n",
              "             0,     0]),\n",
              " 'attention_mask': tensor([1, 1, 1, 1, 1, 1, 1, 1, 1, 1, 1, 1, 1, 1, 1, 1, 1, 1, 1, 1, 1, 1, 1, 1,\n",
              "         1, 1, 1, 1, 1, 1, 1, 1, 1, 1, 1, 1, 1, 1, 1, 1, 1, 1, 1, 1, 1, 1, 1, 1,\n",
              "         1, 1, 1, 1, 1, 1, 1, 1, 1, 1, 1, 1, 1, 1, 1, 1, 1, 1, 1, 1, 1, 1, 1, 1,\n",
              "         1, 1, 1, 1, 1, 1, 1, 1, 1, 1, 1, 1, 1, 1, 1, 1, 1, 1, 1, 1, 1, 1, 1, 1,\n",
              "         1, 1, 1, 1, 1, 1, 1, 1, 1, 1, 1, 1, 1, 1, 1, 1, 1, 1, 1, 1, 1, 1, 1, 1,\n",
              "         1, 1, 1, 0, 0, 0, 0, 0, 0, 0, 0, 0, 0, 0, 0, 0, 0, 0, 0, 0, 0, 0, 0, 0,\n",
              "         0, 0, 0, 0, 0, 0, 0, 0, 0, 0, 0, 0, 0, 0, 0, 0, 0, 0, 0, 0, 0, 0, 0, 0,\n",
              "         0, 0, 0, 0, 0, 0, 0, 0, 0, 0, 0, 0, 0, 0, 0, 0, 0, 0, 0, 0, 0, 0, 0, 0,\n",
              "         0, 0, 0, 0, 0, 0, 0, 0, 0, 0, 0, 0, 0, 0, 0, 0, 0, 0, 0, 0, 0, 0, 0, 0,\n",
              "         0, 0, 0, 0, 0, 0, 0, 0, 0, 0, 0, 0, 0, 0, 0, 0, 0, 0, 0, 0, 0, 0, 0, 0,\n",
              "         0, 0, 0, 0, 0, 0, 0, 0, 0, 0, 0, 0, 0, 0, 0, 0, 0, 0, 0, 0, 0, 0, 0, 0,\n",
              "         0, 0, 0, 0, 0, 0, 0, 0, 0, 0, 0, 0, 0, 0, 0, 0, 0, 0, 0, 0, 0, 0, 0, 0,\n",
              "         0, 0, 0, 0, 0, 0, 0, 0, 0, 0, 0, 0, 0, 0, 0, 0, 0, 0, 0, 0, 0, 0, 0, 0,\n",
              "         0, 0, 0, 0, 0, 0, 0, 0, 0, 0, 0, 0, 0, 0, 0, 0, 0, 0, 0, 0, 0, 0, 0, 0,\n",
              "         0, 0, 0, 0, 0, 0, 0, 0, 0, 0, 0, 0, 0, 0, 0, 0, 0, 0, 0, 0, 0, 0, 0, 0,\n",
              "         0, 0, 0, 0, 0, 0, 0, 0, 0, 0, 0, 0, 0, 0, 0, 0, 0, 0, 0, 0, 0, 0, 0, 0,\n",
              "         0, 0, 0, 0, 0, 0, 0, 0, 0, 0, 0, 0, 0, 0, 0, 0, 0, 0, 0, 0, 0, 0, 0, 0,\n",
              "         0, 0, 0, 0, 0, 0, 0, 0, 0, 0, 0, 0, 0, 0, 0, 0, 0, 0, 0, 0, 0, 0, 0, 0,\n",
              "         0, 0, 0, 0, 0, 0, 0, 0, 0, 0, 0, 0, 0, 0, 0, 0, 0, 0, 0, 0, 0, 0, 0, 0,\n",
              "         0, 0, 0, 0, 0, 0, 0, 0, 0, 0, 0, 0, 0, 0, 0, 0, 0, 0, 0, 0, 0, 0, 0, 0,\n",
              "         0, 0, 0, 0, 0, 0, 0, 0, 0, 0, 0, 0, 0, 0, 0, 0, 0, 0, 0, 0, 0, 0, 0, 0,\n",
              "         0, 0, 0, 0, 0, 0, 0, 0]),\n",
              " 'labels': tensor(2)}"
            ]
          },
          "metadata": {},
          "execution_count": 33
        }
      ]
    },
    {
      "cell_type": "code",
      "source": [
        "# for imbalanced data\n",
        "# from torch.utils.data.sampler import WeightedRandomSampler"
      ],
      "metadata": {
        "id": "vPm4MQMcFHSC"
      },
      "execution_count": null,
      "outputs": []
    },
    {
      "cell_type": "code",
      "execution_count": 19,
      "metadata": {
        "colab": {
          "base_uri": "https://localhost:8080/",
          "height": 728,
          "referenced_widgets": [
            "63c95b42a3a24042ab78f6e368d7c122",
            "a2cbe89d797a4f70a87aecbe45807562",
            "d559279baaf741b1b9a62b0e18726030",
            "d8c23990169145eca1d529d98b4948da",
            "84e0a81b77664b05a3be3971b5fdb4cf",
            "e299e8fb8acf4b8eb4a3ebfcc6294831",
            "a4fdbb037af74dfbb7bb885e5644d325",
            "1abecd354dcf4a5fa39a2ac26b0a3a44",
            "bb1cde1bd4d746199cd8a5398eedac1c",
            "53aeccdc68cb431c9501777427b8d1df",
            "e2ed77ef56e74b3fa6e8bfc4cae9481d"
          ]
        },
        "id": "4XnzoiJaC98t",
        "outputId": "c57ec7da-af35-4b46-e907-1928b9aaad4a",
        "scrolled": true
      },
      "outputs": [
        {
          "output_type": "display_data",
          "data": {
            "text/plain": [
              "model.safetensors:   0%|          | 0.00/268M [00:00<?, ?B/s]"
            ],
            "application/vnd.jupyter.widget-view+json": {
              "version_major": 2,
              "version_minor": 0,
              "model_id": "63c95b42a3a24042ab78f6e368d7c122"
            }
          },
          "metadata": {}
        },
        {
          "output_type": "stream",
          "name": "stderr",
          "text": [
            "Some weights of DistilBertForSequenceClassification were not initialized from the model checkpoint at distilbert-base-uncased and are newly initialized: ['classifier.weight', 'pre_classifier.bias', 'pre_classifier.weight', 'classifier.bias']\n",
            "You should probably TRAIN this model on a down-stream task to be able to use it for predictions and inference.\n",
            "/usr/local/lib/python3.10/dist-packages/transformers/optimization.py:411: FutureWarning: This implementation of AdamW is deprecated and will be removed in a future version. Use the PyTorch implementation torch.optim.AdamW instead, or set `no_deprecation_warning=True` to disable this warning\n",
            "  warnings.warn(\n"
          ]
        },
        {
          "output_type": "execute_result",
          "data": {
            "text/plain": [
              "DistilBertForSequenceClassification(\n",
              "  (distilbert): DistilBertModel(\n",
              "    (embeddings): Embeddings(\n",
              "      (word_embeddings): Embedding(30522, 768, padding_idx=0)\n",
              "      (position_embeddings): Embedding(512, 768)\n",
              "      (LayerNorm): LayerNorm((768,), eps=1e-12, elementwise_affine=True)\n",
              "      (dropout): Dropout(p=0.1, inplace=False)\n",
              "    )\n",
              "    (transformer): Transformer(\n",
              "      (layer): ModuleList(\n",
              "        (0-5): 6 x TransformerBlock(\n",
              "          (attention): MultiHeadSelfAttention(\n",
              "            (dropout): Dropout(p=0.1, inplace=False)\n",
              "            (q_lin): Linear(in_features=768, out_features=768, bias=True)\n",
              "            (k_lin): Linear(in_features=768, out_features=768, bias=True)\n",
              "            (v_lin): Linear(in_features=768, out_features=768, bias=True)\n",
              "            (out_lin): Linear(in_features=768, out_features=768, bias=True)\n",
              "          )\n",
              "          (sa_layer_norm): LayerNorm((768,), eps=1e-12, elementwise_affine=True)\n",
              "          (ffn): FFN(\n",
              "            (dropout): Dropout(p=0.1, inplace=False)\n",
              "            (lin1): Linear(in_features=768, out_features=3072, bias=True)\n",
              "            (lin2): Linear(in_features=3072, out_features=768, bias=True)\n",
              "            (activation): GELUActivation()\n",
              "          )\n",
              "          (output_layer_norm): LayerNorm((768,), eps=1e-12, elementwise_affine=True)\n",
              "        )\n",
              "      )\n",
              "    )\n",
              "  )\n",
              "  (pre_classifier): Linear(in_features=768, out_features=768, bias=True)\n",
              "  (classifier): Linear(in_features=768, out_features=5, bias=True)\n",
              "  (dropout): Dropout(p=0.2, inplace=False)\n",
              ")"
            ]
          },
          "metadata": {},
          "execution_count": 19
        }
      ],
      "source": [
        "from torch.utils.data import DataLoader\n",
        "from transformers import DistilBertForSequenceClassification, AdamW\n",
        "\n",
        "# use gpu if possible\n",
        "device = torch.device('cuda') if torch.cuda.is_available() else torch.device('cpu')\n",
        "\n",
        "# model for star-rating classification\n",
        "model = DistilBertForSequenceClassification.from_pretrained('distilbert-base-uncased', num_labels=5)\n",
        "\n",
        "model.to(device)\n",
        "model.train(True)\n",
        "\n",
        "# data loader\n",
        "train_loader = DataLoader(train_dataset, batch_size=16, shuffle=True)\n",
        "\n",
        "# optimizer\n",
        "optim = AdamW(model.parameters(), lr=5e-5)\n",
        "\n",
        "# due to GPU limitations, the model was only trained for 3 epochs\n",
        "EPOCHS = 3\n",
        "\n",
        "for epoch in range(EPOCHS):\n",
        "    for batch in train_loader:\n",
        "        optim.zero_grad()\n",
        "        # move to gpu\n",
        "        input_ids = batch['input_ids'].to(device)\n",
        "        attention_mask = batch['attention_mask'].to(device)\n",
        "        labels = batch['labels'].to(device)\n",
        "        # feed to model\n",
        "        outputs = model(input_ids, attention_mask=attention_mask, labels=labels)\n",
        "        loss = outputs[0]\n",
        "        loss.backward()\n",
        "        optim.step()\n",
        "        optim.zero_grad()\n",
        "model.eval()\n",
        "\n"
      ]
    },
    {
      "cell_type": "markdown",
      "source": [
        "### evaluation & results"
      ],
      "metadata": {
        "id": "WS5TeuDdov-I"
      }
    },
    {
      "cell_type": "code",
      "execution_count": 67,
      "metadata": {
        "id": "nkz00jS2bLQa"
      },
      "outputs": [],
      "source": [
        "import torch.nn.functional as F\n",
        "\n",
        "def get_performance(test_dataloader, model):\n",
        "  acc_list = []\n",
        "  y_pred = []\n",
        "  y_true = []\n",
        "\n",
        "  with torch.no_grad():\n",
        "    for batch in test_dataloader:\n",
        "      # use gpu\n",
        "      input_ids = batch['input_ids'].to(device)\n",
        "      attention_mask = batch['attention_mask'].to(device)\n",
        "      labels = batch['labels'].to(device)\n",
        "      y_true.append(labels)\n",
        "      # evaluate\n",
        "      output = model(input_ids, attention_mask=attention_mask, labels=labels)\n",
        "      # SequenceClassifierOutput returns logits before softmax\n",
        "      logits = F.softmax(output[1], dim=1)\n",
        "      # predicted labels\n",
        "      preds = torch.argmax(logits, dim=1)\n",
        "      # classification accuracy\n",
        "      acc = torch.mean((preds==labels).float()).detach().cpu()\n",
        "      # save metrics\n",
        "      y_pred.append(preds)\n",
        "      acc_list.append(acc)\n",
        "\n",
        "  mean_acc = torch.mean(torch.tensor(acc_list))\n",
        "\n",
        "  return y_pred, y_true, acc_list, mean_acc"
      ]
    },
    {
      "cell_type": "code",
      "execution_count": 21,
      "metadata": {
        "id": "yCuNlHrTcceW"
      },
      "outputs": [],
      "source": [
        "# evaluate model performance on test data\n",
        "test_dataset = AmazonReview(test_tokenized, list(test_label))\n",
        "test_loader = DataLoader(test_dataset, batch_size=16, shuffle=True)"
      ]
    },
    {
      "cell_type": "code",
      "source": [
        "ypred, ytrue, accs, meanacc = get_performance(test_loader, model)"
      ],
      "metadata": {
        "id": "jqwdsHqdY8iu"
      },
      "execution_count": 68,
      "outputs": []
    },
    {
      "cell_type": "code",
      "source": [
        "# print test accuracy\n",
        "print(meanacc.item())"
      ],
      "metadata": {
        "colab": {
          "base_uri": "https://localhost:8080/"
        },
        "id": "MNEzRQZRmdQa",
        "outputId": "79aadb70-3476-4373-d1a2-8ba432fde687"
      },
      "execution_count": 89,
      "outputs": [
        {
          "output_type": "stream",
          "name": "stdout",
          "text": [
            "0.7006999850273132\n"
          ]
        }
      ]
    },
    {
      "cell_type": "code",
      "source": [
        "yt = torch.cat(ytrue).cpu().detach().numpy()\n",
        "yp = torch.cat(ypred).cpu().detach().numpy()"
      ],
      "metadata": {
        "id": "mRguzy3pmxyr"
      },
      "execution_count": 83,
      "outputs": []
    },
    {
      "cell_type": "code",
      "source": [
        "import matplotlib.pyplot as plt\n",
        "from sklearn.metrics import confusion_matrix\n",
        "import seaborn as sns\n",
        "\n",
        "# confusion matrix\n",
        "cm = confusion_matrix(yt, yp)\n",
        "df_cm = pd.DataFrame(cm/cm.sum(axis=1))\n",
        "df_cm.index=df_cm.index+1\n"
        "df_cm.columns=df_cm.columns+1)\n",
        "\n",
        "plt.figure()\n",
        "s = sns.heatmap(df_cm, annot=True, cmap='crest')\n",
        "s.set(xlabel='Expected', ylabel='predicted')"
      ],
      "metadata": {
        "id": "nJzcK3uaeoS6",
        "colab": {
          "base_uri": "https://localhost:8080/",
          "height": 484
        },
        "outputId": "b4ee08c5-1db4-45bd-9a3b-51ade0cd8fcb"
      },
      "execution_count": 109,
      "outputs": [
        {
          "output_type": "execute_result",
          "data": {
            "text/plain": [
              "[Text(0.5, 23.52222222222222, 'Expected'),\n",
              " Text(50.722222222222214, 0.5, 'predicted')]"
            ]
          },
          "metadata": {},
          "execution_count": 109
        },
        {
          "output_type": "display_data",
          "data": {
            "text/plain": [
              "<Figure size 640x480 with 2 Axes>"
            ],
            "image/png": "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\n"
          },
          "metadata": {}
        }
      ]
    },
    {
      "cell_type": "code",
      "source": [
        "# expected vs predicted labels\n",
        "cm"
      ],
      "metadata": {
        "colab": {
          "base_uri": "https://localhost:8080/"
        },
        "id": "dDU39Nc8peh9",
        "outputId": "d86f5466-d342-4c3e-9dc0-8e2ec36d0f86"
      },
      "execution_count": 108,
      "outputs": [
        {
          "output_type": "execute_result",
          "data": {
            "text/plain": [
              "array([[ 547,  192,   95,   14,   19],\n",
              "       [ 117,  193,  136,   26,    6],\n",
              "       [  87,  193,  467,  253,   85],\n",
              "       [  12,   35,  225,  574,  282],\n",
              "       [  35,   30,  118, 1033, 5226]])"
            ]
          },
          "metadata": {},
          "execution_count": 108
        }
      ]
    }
  ],
  "metadata": {
    "accelerator": "GPU",
    "colab": {
      "gpuType": "V100",
      "provenance": []
    },
    "kernelspec": {
      "display_name": "Python 3",
      "name": "python3"
    },
    "language_info": {
      "codemirror_mode": {
        "name": "ipython",
        "version": 3
      },
      "file_extension": ".py",
      "mimetype": "text/x-python",
      "name": "python",
      "nbconvert_exporter": "python",
      "pygments_lexer": "ipython3",
      "version": "3.8.6"
    },
    "widgets": {
      "application/vnd.jupyter.widget-state+json": {
        "efa4e9fffe494b428aeb90c9e2731943": {
          "model_module": "@jupyter-widgets/controls",
          "model_name": "HBoxModel",
          "model_module_version": "1.5.0",
          "state": {
            "_dom_classes": [],
            "_model_module": "@jupyter-widgets/controls",
            "_model_module_version": "1.5.0",
            "_model_name": "HBoxModel",
            "_view_count": null,
            "_view_module": "@jupyter-widgets/controls",
            "_view_module_version": "1.5.0",
            "_view_name": "HBoxView",
            "box_style": "",
            "children": [
              "IPY_MODEL_8ebb86c96e904e53b79dac0aff454cc0",
              "IPY_MODEL_ce99e24d8f1c4daabb0d662d094fe13f",
              "IPY_MODEL_6f012a6d35424862bd2beaf6d5864d6d"
            ],
            "layout": "IPY_MODEL_7ab2f2dc487640679e035228b50daddc"
          }
        },
        "8ebb86c96e904e53b79dac0aff454cc0": {
          "model_module": "@jupyter-widgets/controls",
          "model_name": "HTMLModel",
          "model_module_version": "1.5.0",
          "state": {
            "_dom_classes": [],
            "_model_module": "@jupyter-widgets/controls",
            "_model_module_version": "1.5.0",
            "_model_name": "HTMLModel",
            "_view_count": null,
            "_view_module": "@jupyter-widgets/controls",
            "_view_module_version": "1.5.0",
            "_view_name": "HTMLView",
            "description": "",
            "description_tooltip": null,
            "layout": "IPY_MODEL_9f66455a21c84781ab899d045fe45c77",
            "placeholder": "​",
            "style": "IPY_MODEL_117c527f522c4328a9c6a1cfff33deb8",
            "value": "tokenizer_config.json: 100%"
          }
        },
        "ce99e24d8f1c4daabb0d662d094fe13f": {
          "model_module": "@jupyter-widgets/controls",
          "model_name": "FloatProgressModel",
          "model_module_version": "1.5.0",
          "state": {
            "_dom_classes": [],
            "_model_module": "@jupyter-widgets/controls",
            "_model_module_version": "1.5.0",
            "_model_name": "FloatProgressModel",
            "_view_count": null,
            "_view_module": "@jupyter-widgets/controls",
            "_view_module_version": "1.5.0",
            "_view_name": "ProgressView",
            "bar_style": "success",
            "description": "",
            "description_tooltip": null,
            "layout": "IPY_MODEL_57c5f4aa5bc742628a5480bcf7c01c08",
            "max": 28,
            "min": 0,
            "orientation": "horizontal",
            "style": "IPY_MODEL_e89b6bed0da54073bfdacffd86e37289",
            "value": 28
          }
        },
        "6f012a6d35424862bd2beaf6d5864d6d": {
          "model_module": "@jupyter-widgets/controls",
          "model_name": "HTMLModel",
          "model_module_version": "1.5.0",
          "state": {
            "_dom_classes": [],
            "_model_module": "@jupyter-widgets/controls",
            "_model_module_version": "1.5.0",
            "_model_name": "HTMLModel",
            "_view_count": null,
            "_view_module": "@jupyter-widgets/controls",
            "_view_module_version": "1.5.0",
            "_view_name": "HTMLView",
            "description": "",
            "description_tooltip": null,
            "layout": "IPY_MODEL_0e13cf86d24344598bca19ab647e95f0",
            "placeholder": "​",
            "style": "IPY_MODEL_b769725ab739406898f2fa9ece09c5ef",
            "value": " 28.0/28.0 [00:00&lt;00:00, 766B/s]"
          }
        },
        "7ab2f2dc487640679e035228b50daddc": {
          "model_module": "@jupyter-widgets/base",
          "model_name": "LayoutModel",
          "model_module_version": "1.2.0",
          "state": {
            "_model_module": "@jupyter-widgets/base",
            "_model_module_version": "1.2.0",
            "_model_name": "LayoutModel",
            "_view_count": null,
            "_view_module": "@jupyter-widgets/base",
            "_view_module_version": "1.2.0",
            "_view_name": "LayoutView",
            "align_content": null,
            "align_items": null,
            "align_self": null,
            "border": null,
            "bottom": null,
            "display": null,
            "flex": null,
            "flex_flow": null,
            "grid_area": null,
            "grid_auto_columns": null,
            "grid_auto_flow": null,
            "grid_auto_rows": null,
            "grid_column": null,
            "grid_gap": null,
            "grid_row": null,
            "grid_template_areas": null,
            "grid_template_columns": null,
            "grid_template_rows": null,
            "height": null,
            "justify_content": null,
            "justify_items": null,
            "left": null,
            "margin": null,
            "max_height": null,
            "max_width": null,
            "min_height": null,
            "min_width": null,
            "object_fit": null,
            "object_position": null,
            "order": null,
            "overflow": null,
            "overflow_x": null,
            "overflow_y": null,
            "padding": null,
            "right": null,
            "top": null,
            "visibility": null,
            "width": null
          }
        },
        "9f66455a21c84781ab899d045fe45c77": {
          "model_module": "@jupyter-widgets/base",
          "model_name": "LayoutModel",
          "model_module_version": "1.2.0",
          "state": {
            "_model_module": "@jupyter-widgets/base",
            "_model_module_version": "1.2.0",
            "_model_name": "LayoutModel",
            "_view_count": null,
            "_view_module": "@jupyter-widgets/base",
            "_view_module_version": "1.2.0",
            "_view_name": "LayoutView",
            "align_content": null,
            "align_items": null,
            "align_self": null,
            "border": null,
            "bottom": null,
            "display": null,
            "flex": null,
            "flex_flow": null,
            "grid_area": null,
            "grid_auto_columns": null,
            "grid_auto_flow": null,
            "grid_auto_rows": null,
            "grid_column": null,
            "grid_gap": null,
            "grid_row": null,
            "grid_template_areas": null,
            "grid_template_columns": null,
            "grid_template_rows": null,
            "height": null,
            "justify_content": null,
            "justify_items": null,
            "left": null,
            "margin": null,
            "max_height": null,
            "max_width": null,
            "min_height": null,
            "min_width": null,
            "object_fit": null,
            "object_position": null,
            "order": null,
            "overflow": null,
            "overflow_x": null,
            "overflow_y": null,
            "padding": null,
            "right": null,
            "top": null,
            "visibility": null,
            "width": null
          }
        },
        "117c527f522c4328a9c6a1cfff33deb8": {
          "model_module": "@jupyter-widgets/controls",
          "model_name": "DescriptionStyleModel",
          "model_module_version": "1.5.0",
          "state": {
            "_model_module": "@jupyter-widgets/controls",
            "_model_module_version": "1.5.0",
            "_model_name": "DescriptionStyleModel",
            "_view_count": null,
            "_view_module": "@jupyter-widgets/base",
            "_view_module_version": "1.2.0",
            "_view_name": "StyleView",
            "description_width": ""
          }
        },
        "57c5f4aa5bc742628a5480bcf7c01c08": {
          "model_module": "@jupyter-widgets/base",
          "model_name": "LayoutModel",
          "model_module_version": "1.2.0",
          "state": {
            "_model_module": "@jupyter-widgets/base",
            "_model_module_version": "1.2.0",
            "_model_name": "LayoutModel",
            "_view_count": null,
            "_view_module": "@jupyter-widgets/base",
            "_view_module_version": "1.2.0",
            "_view_name": "LayoutView",
            "align_content": null,
            "align_items": null,
            "align_self": null,
            "border": null,
            "bottom": null,
            "display": null,
            "flex": null,
            "flex_flow": null,
            "grid_area": null,
            "grid_auto_columns": null,
            "grid_auto_flow": null,
            "grid_auto_rows": null,
            "grid_column": null,
            "grid_gap": null,
            "grid_row": null,
            "grid_template_areas": null,
            "grid_template_columns": null,
            "grid_template_rows": null,
            "height": null,
            "justify_content": null,
            "justify_items": null,
            "left": null,
            "margin": null,
            "max_height": null,
            "max_width": null,
            "min_height": null,
            "min_width": null,
            "object_fit": null,
            "object_position": null,
            "order": null,
            "overflow": null,
            "overflow_x": null,
            "overflow_y": null,
            "padding": null,
            "right": null,
            "top": null,
            "visibility": null,
            "width": null
          }
        },
        "e89b6bed0da54073bfdacffd86e37289": {
          "model_module": "@jupyter-widgets/controls",
          "model_name": "ProgressStyleModel",
          "model_module_version": "1.5.0",
          "state": {
            "_model_module": "@jupyter-widgets/controls",
            "_model_module_version": "1.5.0",
            "_model_name": "ProgressStyleModel",
            "_view_count": null,
            "_view_module": "@jupyter-widgets/base",
            "_view_module_version": "1.2.0",
            "_view_name": "StyleView",
            "bar_color": null,
            "description_width": ""
          }
        },
        "0e13cf86d24344598bca19ab647e95f0": {
          "model_module": "@jupyter-widgets/base",
          "model_name": "LayoutModel",
          "model_module_version": "1.2.0",
          "state": {
            "_model_module": "@jupyter-widgets/base",
            "_model_module_version": "1.2.0",
            "_model_name": "LayoutModel",
            "_view_count": null,
            "_view_module": "@jupyter-widgets/base",
            "_view_module_version": "1.2.0",
            "_view_name": "LayoutView",
            "align_content": null,
            "align_items": null,
            "align_self": null,
            "border": null,
            "bottom": null,
            "display": null,
            "flex": null,
            "flex_flow": null,
            "grid_area": null,
            "grid_auto_columns": null,
            "grid_auto_flow": null,
            "grid_auto_rows": null,
            "grid_column": null,
            "grid_gap": null,
            "grid_row": null,
            "grid_template_areas": null,
            "grid_template_columns": null,
            "grid_template_rows": null,
            "height": null,
            "justify_content": null,
            "justify_items": null,
            "left": null,
            "margin": null,
            "max_height": null,
            "max_width": null,
            "min_height": null,
            "min_width": null,
            "object_fit": null,
            "object_position": null,
            "order": null,
            "overflow": null,
            "overflow_x": null,
            "overflow_y": null,
            "padding": null,
            "right": null,
            "top": null,
            "visibility": null,
            "width": null
          }
        },
        "b769725ab739406898f2fa9ece09c5ef": {
          "model_module": "@jupyter-widgets/controls",
          "model_name": "DescriptionStyleModel",
          "model_module_version": "1.5.0",
          "state": {
            "_model_module": "@jupyter-widgets/controls",
            "_model_module_version": "1.5.0",
            "_model_name": "DescriptionStyleModel",
            "_view_count": null,
            "_view_module": "@jupyter-widgets/base",
            "_view_module_version": "1.2.0",
            "_view_name": "StyleView",
            "description_width": ""
          }
        },
        "4d491e9d2d4142599f541226f60f1839": {
          "model_module": "@jupyter-widgets/controls",
          "model_name": "HBoxModel",
          "model_module_version": "1.5.0",
          "state": {
            "_dom_classes": [],
            "_model_module": "@jupyter-widgets/controls",
            "_model_module_version": "1.5.0",
            "_model_name": "HBoxModel",
            "_view_count": null,
            "_view_module": "@jupyter-widgets/controls",
            "_view_module_version": "1.5.0",
            "_view_name": "HBoxView",
            "box_style": "",
            "children": [
              "IPY_MODEL_1a4b6f1f1a50421397ef6465e35fc2af",
              "IPY_MODEL_07aee57258814d5aa9a8a86a14fe77e3",
              "IPY_MODEL_e317104f6f0148f59352b28e6fbbd4c0"
            ],
            "layout": "IPY_MODEL_1b41cb393a474997ace86045cf2522a7"
          }
        },
        "1a4b6f1f1a50421397ef6465e35fc2af": {
          "model_module": "@jupyter-widgets/controls",
          "model_name": "HTMLModel",
          "model_module_version": "1.5.0",
          "state": {
            "_dom_classes": [],
            "_model_module": "@jupyter-widgets/controls",
            "_model_module_version": "1.5.0",
            "_model_name": "HTMLModel",
            "_view_count": null,
            "_view_module": "@jupyter-widgets/controls",
            "_view_module_version": "1.5.0",
            "_view_name": "HTMLView",
            "description": "",
            "description_tooltip": null,
            "layout": "IPY_MODEL_32fc0f3fe35c45308fb0057e57de9ecc",
            "placeholder": "​",
            "style": "IPY_MODEL_91dcba273fe649b0b0a2168926adc7bd",
            "value": "vocab.txt: 100%"
          }
        },
        "07aee57258814d5aa9a8a86a14fe77e3": {
          "model_module": "@jupyter-widgets/controls",
          "model_name": "FloatProgressModel",
          "model_module_version": "1.5.0",
          "state": {
            "_dom_classes": [],
            "_model_module": "@jupyter-widgets/controls",
            "_model_module_version": "1.5.0",
            "_model_name": "FloatProgressModel",
            "_view_count": null,
            "_view_module": "@jupyter-widgets/controls",
            "_view_module_version": "1.5.0",
            "_view_name": "ProgressView",
            "bar_style": "success",
            "description": "",
            "description_tooltip": null,
            "layout": "IPY_MODEL_53303bb8d915404b9257496990cad775",
            "max": 231508,
            "min": 0,
            "orientation": "horizontal",
            "style": "IPY_MODEL_744abd97ae3f44ca9a91c4aa2af6b723",
            "value": 231508
          }
        },
        "e317104f6f0148f59352b28e6fbbd4c0": {
          "model_module": "@jupyter-widgets/controls",
          "model_name": "HTMLModel",
          "model_module_version": "1.5.0",
          "state": {
            "_dom_classes": [],
            "_model_module": "@jupyter-widgets/controls",
            "_model_module_version": "1.5.0",
            "_model_name": "HTMLModel",
            "_view_count": null,
            "_view_module": "@jupyter-widgets/controls",
            "_view_module_version": "1.5.0",
            "_view_name": "HTMLView",
            "description": "",
            "description_tooltip": null,
            "layout": "IPY_MODEL_2fcfa75cc011440bb225603cebed9d65",
            "placeholder": "​",
            "style": "IPY_MODEL_f965e73a846d45de8a77bca548003f5b",
            "value": " 232k/232k [00:00&lt;00:00, 1.45MB/s]"
          }
        },
        "1b41cb393a474997ace86045cf2522a7": {
          "model_module": "@jupyter-widgets/base",
          "model_name": "LayoutModel",
          "model_module_version": "1.2.0",
          "state": {
            "_model_module": "@jupyter-widgets/base",
            "_model_module_version": "1.2.0",
            "_model_name": "LayoutModel",
            "_view_count": null,
            "_view_module": "@jupyter-widgets/base",
            "_view_module_version": "1.2.0",
            "_view_name": "LayoutView",
            "align_content": null,
            "align_items": null,
            "align_self": null,
            "border": null,
            "bottom": null,
            "display": null,
            "flex": null,
            "flex_flow": null,
            "grid_area": null,
            "grid_auto_columns": null,
            "grid_auto_flow": null,
            "grid_auto_rows": null,
            "grid_column": null,
            "grid_gap": null,
            "grid_row": null,
            "grid_template_areas": null,
            "grid_template_columns": null,
            "grid_template_rows": null,
            "height": null,
            "justify_content": null,
            "justify_items": null,
            "left": null,
            "margin": null,
            "max_height": null,
            "max_width": null,
            "min_height": null,
            "min_width": null,
            "object_fit": null,
            "object_position": null,
            "order": null,
            "overflow": null,
            "overflow_x": null,
            "overflow_y": null,
            "padding": null,
            "right": null,
            "top": null,
            "visibility": null,
            "width": null
          }
        },
        "32fc0f3fe35c45308fb0057e57de9ecc": {
          "model_module": "@jupyter-widgets/base",
          "model_name": "LayoutModel",
          "model_module_version": "1.2.0",
          "state": {
            "_model_module": "@jupyter-widgets/base",
            "_model_module_version": "1.2.0",
            "_model_name": "LayoutModel",
            "_view_count": null,
            "_view_module": "@jupyter-widgets/base",
            "_view_module_version": "1.2.0",
            "_view_name": "LayoutView",
            "align_content": null,
            "align_items": null,
            "align_self": null,
            "border": null,
            "bottom": null,
            "display": null,
            "flex": null,
            "flex_flow": null,
            "grid_area": null,
            "grid_auto_columns": null,
            "grid_auto_flow": null,
            "grid_auto_rows": null,
            "grid_column": null,
            "grid_gap": null,
            "grid_row": null,
            "grid_template_areas": null,
            "grid_template_columns": null,
            "grid_template_rows": null,
            "height": null,
            "justify_content": null,
            "justify_items": null,
            "left": null,
            "margin": null,
            "max_height": null,
            "max_width": null,
            "min_height": null,
            "min_width": null,
            "object_fit": null,
            "object_position": null,
            "order": null,
            "overflow": null,
            "overflow_x": null,
            "overflow_y": null,
            "padding": null,
            "right": null,
            "top": null,
            "visibility": null,
            "width": null
          }
        },
        "91dcba273fe649b0b0a2168926adc7bd": {
          "model_module": "@jupyter-widgets/controls",
          "model_name": "DescriptionStyleModel",
          "model_module_version": "1.5.0",
          "state": {
            "_model_module": "@jupyter-widgets/controls",
            "_model_module_version": "1.5.0",
            "_model_name": "DescriptionStyleModel",
            "_view_count": null,
            "_view_module": "@jupyter-widgets/base",
            "_view_module_version": "1.2.0",
            "_view_name": "StyleView",
            "description_width": ""
          }
        },
        "53303bb8d915404b9257496990cad775": {
          "model_module": "@jupyter-widgets/base",
          "model_name": "LayoutModel",
          "model_module_version": "1.2.0",
          "state": {
            "_model_module": "@jupyter-widgets/base",
            "_model_module_version": "1.2.0",
            "_model_name": "LayoutModel",
            "_view_count": null,
            "_view_module": "@jupyter-widgets/base",
            "_view_module_version": "1.2.0",
            "_view_name": "LayoutView",
            "align_content": null,
            "align_items": null,
            "align_self": null,
            "border": null,
            "bottom": null,
            "display": null,
            "flex": null,
            "flex_flow": null,
            "grid_area": null,
            "grid_auto_columns": null,
            "grid_auto_flow": null,
            "grid_auto_rows": null,
            "grid_column": null,
            "grid_gap": null,
            "grid_row": null,
            "grid_template_areas": null,
            "grid_template_columns": null,
            "grid_template_rows": null,
            "height": null,
            "justify_content": null,
            "justify_items": null,
            "left": null,
            "margin": null,
            "max_height": null,
            "max_width": null,
            "min_height": null,
            "min_width": null,
            "object_fit": null,
            "object_position": null,
            "order": null,
            "overflow": null,
            "overflow_x": null,
            "overflow_y": null,
            "padding": null,
            "right": null,
            "top": null,
            "visibility": null,
            "width": null
          }
        },
        "744abd97ae3f44ca9a91c4aa2af6b723": {
          "model_module": "@jupyter-widgets/controls",
          "model_name": "ProgressStyleModel",
          "model_module_version": "1.5.0",
          "state": {
            "_model_module": "@jupyter-widgets/controls",
            "_model_module_version": "1.5.0",
            "_model_name": "ProgressStyleModel",
            "_view_count": null,
            "_view_module": "@jupyter-widgets/base",
            "_view_module_version": "1.2.0",
            "_view_name": "StyleView",
            "bar_color": null,
            "description_width": ""
          }
        },
        "2fcfa75cc011440bb225603cebed9d65": {
          "model_module": "@jupyter-widgets/base",
          "model_name": "LayoutModel",
          "model_module_version": "1.2.0",
          "state": {
            "_model_module": "@jupyter-widgets/base",
            "_model_module_version": "1.2.0",
            "_model_name": "LayoutModel",
            "_view_count": null,
            "_view_module": "@jupyter-widgets/base",
            "_view_module_version": "1.2.0",
            "_view_name": "LayoutView",
            "align_content": null,
            "align_items": null,
            "align_self": null,
            "border": null,
            "bottom": null,
            "display": null,
            "flex": null,
            "flex_flow": null,
            "grid_area": null,
            "grid_auto_columns": null,
            "grid_auto_flow": null,
            "grid_auto_rows": null,
            "grid_column": null,
            "grid_gap": null,
            "grid_row": null,
            "grid_template_areas": null,
            "grid_template_columns": null,
            "grid_template_rows": null,
            "height": null,
            "justify_content": null,
            "justify_items": null,
            "left": null,
            "margin": null,
            "max_height": null,
            "max_width": null,
            "min_height": null,
            "min_width": null,
            "object_fit": null,
            "object_position": null,
            "order": null,
            "overflow": null,
            "overflow_x": null,
            "overflow_y": null,
            "padding": null,
            "right": null,
            "top": null,
            "visibility": null,
            "width": null
          }
        },
        "f965e73a846d45de8a77bca548003f5b": {
          "model_module": "@jupyter-widgets/controls",
          "model_name": "DescriptionStyleModel",
          "model_module_version": "1.5.0",
          "state": {
            "_model_module": "@jupyter-widgets/controls",
            "_model_module_version": "1.5.0",
            "_model_name": "DescriptionStyleModel",
            "_view_count": null,
            "_view_module": "@jupyter-widgets/base",
            "_view_module_version": "1.2.0",
            "_view_name": "StyleView",
            "description_width": ""
          }
        },
        "4da180c802f2462a9d84a732fb9c6334": {
          "model_module": "@jupyter-widgets/controls",
          "model_name": "HBoxModel",
          "model_module_version": "1.5.0",
          "state": {
            "_dom_classes": [],
            "_model_module": "@jupyter-widgets/controls",
            "_model_module_version": "1.5.0",
            "_model_name": "HBoxModel",
            "_view_count": null,
            "_view_module": "@jupyter-widgets/controls",
            "_view_module_version": "1.5.0",
            "_view_name": "HBoxView",
            "box_style": "",
            "children": [
              "IPY_MODEL_99e7eb556f4c4c7bb45b6b29c499ba83",
              "IPY_MODEL_f6cb16ba06e34782908a738473b925ad",
              "IPY_MODEL_b3f0b6eab2ab49b8a8c549050010c77a"
            ],
            "layout": "IPY_MODEL_550ea3a805ed48c7b777d65c58f326f6"
          }
        },
        "99e7eb556f4c4c7bb45b6b29c499ba83": {
          "model_module": "@jupyter-widgets/controls",
          "model_name": "HTMLModel",
          "model_module_version": "1.5.0",
          "state": {
            "_dom_classes": [],
            "_model_module": "@jupyter-widgets/controls",
            "_model_module_version": "1.5.0",
            "_model_name": "HTMLModel",
            "_view_count": null,
            "_view_module": "@jupyter-widgets/controls",
            "_view_module_version": "1.5.0",
            "_view_name": "HTMLView",
            "description": "",
            "description_tooltip": null,
            "layout": "IPY_MODEL_b7bacdedc67148a1953f8df69743aa30",
            "placeholder": "​",
            "style": "IPY_MODEL_264cd6c58e134c95898327b09ebe881b",
            "value": "tokenizer.json: 100%"
          }
        },
        "f6cb16ba06e34782908a738473b925ad": {
          "model_module": "@jupyter-widgets/controls",
          "model_name": "FloatProgressModel",
          "model_module_version": "1.5.0",
          "state": {
            "_dom_classes": [],
            "_model_module": "@jupyter-widgets/controls",
            "_model_module_version": "1.5.0",
            "_model_name": "FloatProgressModel",
            "_view_count": null,
            "_view_module": "@jupyter-widgets/controls",
            "_view_module_version": "1.5.0",
            "_view_name": "ProgressView",
            "bar_style": "success",
            "description": "",
            "description_tooltip": null,
            "layout": "IPY_MODEL_1e121792bb07422e8080f531fd3c0e4f",
            "max": 466062,
            "min": 0,
            "orientation": "horizontal",
            "style": "IPY_MODEL_271f11aa69dd42ceac0da2a5dda8bf7d",
            "value": 466062
          }
        },
        "b3f0b6eab2ab49b8a8c549050010c77a": {
          "model_module": "@jupyter-widgets/controls",
          "model_name": "HTMLModel",
          "model_module_version": "1.5.0",
          "state": {
            "_dom_classes": [],
            "_model_module": "@jupyter-widgets/controls",
            "_model_module_version": "1.5.0",
            "_model_name": "HTMLModel",
            "_view_count": null,
            "_view_module": "@jupyter-widgets/controls",
            "_view_module_version": "1.5.0",
            "_view_name": "HTMLView",
            "description": "",
            "description_tooltip": null,
            "layout": "IPY_MODEL_2c1500fc1723450ba179feaadcc7b066",
            "placeholder": "​",
            "style": "IPY_MODEL_cf038d36cf5b4edc9b13957a81ed9aed",
            "value": " 466k/466k [00:00&lt;00:00, 20.6MB/s]"
          }
        },
        "550ea3a805ed48c7b777d65c58f326f6": {
          "model_module": "@jupyter-widgets/base",
          "model_name": "LayoutModel",
          "model_module_version": "1.2.0",
          "state": {
            "_model_module": "@jupyter-widgets/base",
            "_model_module_version": "1.2.0",
            "_model_name": "LayoutModel",
            "_view_count": null,
            "_view_module": "@jupyter-widgets/base",
            "_view_module_version": "1.2.0",
            "_view_name": "LayoutView",
            "align_content": null,
            "align_items": null,
            "align_self": null,
            "border": null,
            "bottom": null,
            "display": null,
            "flex": null,
            "flex_flow": null,
            "grid_area": null,
            "grid_auto_columns": null,
            "grid_auto_flow": null,
            "grid_auto_rows": null,
            "grid_column": null,
            "grid_gap": null,
            "grid_row": null,
            "grid_template_areas": null,
            "grid_template_columns": null,
            "grid_template_rows": null,
            "height": null,
            "justify_content": null,
            "justify_items": null,
            "left": null,
            "margin": null,
            "max_height": null,
            "max_width": null,
            "min_height": null,
            "min_width": null,
            "object_fit": null,
            "object_position": null,
            "order": null,
            "overflow": null,
            "overflow_x": null,
            "overflow_y": null,
            "padding": null,
            "right": null,
            "top": null,
            "visibility": null,
            "width": null
          }
        },
        "b7bacdedc67148a1953f8df69743aa30": {
          "model_module": "@jupyter-widgets/base",
          "model_name": "LayoutModel",
          "model_module_version": "1.2.0",
          "state": {
            "_model_module": "@jupyter-widgets/base",
            "_model_module_version": "1.2.0",
            "_model_name": "LayoutModel",
            "_view_count": null,
            "_view_module": "@jupyter-widgets/base",
            "_view_module_version": "1.2.0",
            "_view_name": "LayoutView",
            "align_content": null,
            "align_items": null,
            "align_self": null,
            "border": null,
            "bottom": null,
            "display": null,
            "flex": null,
            "flex_flow": null,
            "grid_area": null,
            "grid_auto_columns": null,
            "grid_auto_flow": null,
            "grid_auto_rows": null,
            "grid_column": null,
            "grid_gap": null,
            "grid_row": null,
            "grid_template_areas": null,
            "grid_template_columns": null,
            "grid_template_rows": null,
            "height": null,
            "justify_content": null,
            "justify_items": null,
            "left": null,
            "margin": null,
            "max_height": null,
            "max_width": null,
            "min_height": null,
            "min_width": null,
            "object_fit": null,
            "object_position": null,
            "order": null,
            "overflow": null,
            "overflow_x": null,
            "overflow_y": null,
            "padding": null,
            "right": null,
            "top": null,
            "visibility": null,
            "width": null
          }
        },
        "264cd6c58e134c95898327b09ebe881b": {
          "model_module": "@jupyter-widgets/controls",
          "model_name": "DescriptionStyleModel",
          "model_module_version": "1.5.0",
          "state": {
            "_model_module": "@jupyter-widgets/controls",
            "_model_module_version": "1.5.0",
            "_model_name": "DescriptionStyleModel",
            "_view_count": null,
            "_view_module": "@jupyter-widgets/base",
            "_view_module_version": "1.2.0",
            "_view_name": "StyleView",
            "description_width": ""
          }
        },
        "1e121792bb07422e8080f531fd3c0e4f": {
          "model_module": "@jupyter-widgets/base",
          "model_name": "LayoutModel",
          "model_module_version": "1.2.0",
          "state": {
            "_model_module": "@jupyter-widgets/base",
            "_model_module_version": "1.2.0",
            "_model_name": "LayoutModel",
            "_view_count": null,
            "_view_module": "@jupyter-widgets/base",
            "_view_module_version": "1.2.0",
            "_view_name": "LayoutView",
            "align_content": null,
            "align_items": null,
            "align_self": null,
            "border": null,
            "bottom": null,
            "display": null,
            "flex": null,
            "flex_flow": null,
            "grid_area": null,
            "grid_auto_columns": null,
            "grid_auto_flow": null,
            "grid_auto_rows": null,
            "grid_column": null,
            "grid_gap": null,
            "grid_row": null,
            "grid_template_areas": null,
            "grid_template_columns": null,
            "grid_template_rows": null,
            "height": null,
            "justify_content": null,
            "justify_items": null,
            "left": null,
            "margin": null,
            "max_height": null,
            "max_width": null,
            "min_height": null,
            "min_width": null,
            "object_fit": null,
            "object_position": null,
            "order": null,
            "overflow": null,
            "overflow_x": null,
            "overflow_y": null,
            "padding": null,
            "right": null,
            "top": null,
            "visibility": null,
            "width": null
          }
        },
        "271f11aa69dd42ceac0da2a5dda8bf7d": {
          "model_module": "@jupyter-widgets/controls",
          "model_name": "ProgressStyleModel",
          "model_module_version": "1.5.0",
          "state": {
            "_model_module": "@jupyter-widgets/controls",
            "_model_module_version": "1.5.0",
            "_model_name": "ProgressStyleModel",
            "_view_count": null,
            "_view_module": "@jupyter-widgets/base",
            "_view_module_version": "1.2.0",
            "_view_name": "StyleView",
            "bar_color": null,
            "description_width": ""
          }
        },
        "2c1500fc1723450ba179feaadcc7b066": {
          "model_module": "@jupyter-widgets/base",
          "model_name": "LayoutModel",
          "model_module_version": "1.2.0",
          "state": {
            "_model_module": "@jupyter-widgets/base",
            "_model_module_version": "1.2.0",
            "_model_name": "LayoutModel",
            "_view_count": null,
            "_view_module": "@jupyter-widgets/base",
            "_view_module_version": "1.2.0",
            "_view_name": "LayoutView",
            "align_content": null,
            "align_items": null,
            "align_self": null,
            "border": null,
            "bottom": null,
            "display": null,
            "flex": null,
            "flex_flow": null,
            "grid_area": null,
            "grid_auto_columns": null,
            "grid_auto_flow": null,
            "grid_auto_rows": null,
            "grid_column": null,
            "grid_gap": null,
            "grid_row": null,
            "grid_template_areas": null,
            "grid_template_columns": null,
            "grid_template_rows": null,
            "height": null,
            "justify_content": null,
            "justify_items": null,
            "left": null,
            "margin": null,
            "max_height": null,
            "max_width": null,
            "min_height": null,
            "min_width": null,
            "object_fit": null,
            "object_position": null,
            "order": null,
            "overflow": null,
            "overflow_x": null,
            "overflow_y": null,
            "padding": null,
            "right": null,
            "top": null,
            "visibility": null,
            "width": null
          }
        },
        "cf038d36cf5b4edc9b13957a81ed9aed": {
          "model_module": "@jupyter-widgets/controls",
          "model_name": "DescriptionStyleModel",
          "model_module_version": "1.5.0",
          "state": {
            "_model_module": "@jupyter-widgets/controls",
            "_model_module_version": "1.5.0",
            "_model_name": "DescriptionStyleModel",
            "_view_count": null,
            "_view_module": "@jupyter-widgets/base",
            "_view_module_version": "1.2.0",
            "_view_name": "StyleView",
            "description_width": ""
          }
        },
        "8f2b74bbd7e2451f872892edee39231b": {
          "model_module": "@jupyter-widgets/controls",
          "model_name": "HBoxModel",
          "model_module_version": "1.5.0",
          "state": {
            "_dom_classes": [],
            "_model_module": "@jupyter-widgets/controls",
            "_model_module_version": "1.5.0",
            "_model_name": "HBoxModel",
            "_view_count": null,
            "_view_module": "@jupyter-widgets/controls",
            "_view_module_version": "1.5.0",
            "_view_name": "HBoxView",
            "box_style": "",
            "children": [
              "IPY_MODEL_f90d9151beda496ca1b443233198af16",
              "IPY_MODEL_0c64354188934606b4411f4c51fd9cf4",
              "IPY_MODEL_cc3b34843f3647af8fd14b973fe6d373"
            ],
            "layout": "IPY_MODEL_bbc752fc2c06444d8b36c1106d41172b"
          }
        },
        "f90d9151beda496ca1b443233198af16": {
          "model_module": "@jupyter-widgets/controls",
          "model_name": "HTMLModel",
          "model_module_version": "1.5.0",
          "state": {
            "_dom_classes": [],
            "_model_module": "@jupyter-widgets/controls",
            "_model_module_version": "1.5.0",
            "_model_name": "HTMLModel",
            "_view_count": null,
            "_view_module": "@jupyter-widgets/controls",
            "_view_module_version": "1.5.0",
            "_view_name": "HTMLView",
            "description": "",
            "description_tooltip": null,
            "layout": "IPY_MODEL_73404b0faee648589a320cab4c63a5f8",
            "placeholder": "​",
            "style": "IPY_MODEL_5d913bd1e1104f4099ce36d9e8950bc2",
            "value": "config.json: 100%"
          }
        },
        "0c64354188934606b4411f4c51fd9cf4": {
          "model_module": "@jupyter-widgets/controls",
          "model_name": "FloatProgressModel",
          "model_module_version": "1.5.0",
          "state": {
            "_dom_classes": [],
            "_model_module": "@jupyter-widgets/controls",
            "_model_module_version": "1.5.0",
            "_model_name": "FloatProgressModel",
            "_view_count": null,
            "_view_module": "@jupyter-widgets/controls",
            "_view_module_version": "1.5.0",
            "_view_name": "ProgressView",
            "bar_style": "success",
            "description": "",
            "description_tooltip": null,
            "layout": "IPY_MODEL_84b98f788b0d40f0908cad249ac1cbfb",
            "max": 483,
            "min": 0,
            "orientation": "horizontal",
            "style": "IPY_MODEL_3c4412c09362423ead05cfea5734f5a5",
            "value": 483
          }
        },
        "cc3b34843f3647af8fd14b973fe6d373": {
          "model_module": "@jupyter-widgets/controls",
          "model_name": "HTMLModel",
          "model_module_version": "1.5.0",
          "state": {
            "_dom_classes": [],
            "_model_module": "@jupyter-widgets/controls",
            "_model_module_version": "1.5.0",
            "_model_name": "HTMLModel",
            "_view_count": null,
            "_view_module": "@jupyter-widgets/controls",
            "_view_module_version": "1.5.0",
            "_view_name": "HTMLView",
            "description": "",
            "description_tooltip": null,
            "layout": "IPY_MODEL_7ae73f5000104b0793fba108e8dc27b4",
            "placeholder": "​",
            "style": "IPY_MODEL_6bb04ee62d04493f94bc97dd7093adb5",
            "value": " 483/483 [00:00&lt;00:00, 16.6kB/s]"
          }
        },
        "bbc752fc2c06444d8b36c1106d41172b": {
          "model_module": "@jupyter-widgets/base",
          "model_name": "LayoutModel",
          "model_module_version": "1.2.0",
          "state": {
            "_model_module": "@jupyter-widgets/base",
            "_model_module_version": "1.2.0",
            "_model_name": "LayoutModel",
            "_view_count": null,
            "_view_module": "@jupyter-widgets/base",
            "_view_module_version": "1.2.0",
            "_view_name": "LayoutView",
            "align_content": null,
            "align_items": null,
            "align_self": null,
            "border": null,
            "bottom": null,
            "display": null,
            "flex": null,
            "flex_flow": null,
            "grid_area": null,
            "grid_auto_columns": null,
            "grid_auto_flow": null,
            "grid_auto_rows": null,
            "grid_column": null,
            "grid_gap": null,
            "grid_row": null,
            "grid_template_areas": null,
            "grid_template_columns": null,
            "grid_template_rows": null,
            "height": null,
            "justify_content": null,
            "justify_items": null,
            "left": null,
            "margin": null,
            "max_height": null,
            "max_width": null,
            "min_height": null,
            "min_width": null,
            "object_fit": null,
            "object_position": null,
            "order": null,
            "overflow": null,
            "overflow_x": null,
            "overflow_y": null,
            "padding": null,
            "right": null,
            "top": null,
            "visibility": null,
            "width": null
          }
        },
        "73404b0faee648589a320cab4c63a5f8": {
          "model_module": "@jupyter-widgets/base",
          "model_name": "LayoutModel",
          "model_module_version": "1.2.0",
          "state": {
            "_model_module": "@jupyter-widgets/base",
            "_model_module_version": "1.2.0",
            "_model_name": "LayoutModel",
            "_view_count": null,
            "_view_module": "@jupyter-widgets/base",
            "_view_module_version": "1.2.0",
            "_view_name": "LayoutView",
            "align_content": null,
            "align_items": null,
            "align_self": null,
            "border": null,
            "bottom": null,
            "display": null,
            "flex": null,
            "flex_flow": null,
            "grid_area": null,
            "grid_auto_columns": null,
            "grid_auto_flow": null,
            "grid_auto_rows": null,
            "grid_column": null,
            "grid_gap": null,
            "grid_row": null,
            "grid_template_areas": null,
            "grid_template_columns": null,
            "grid_template_rows": null,
            "height": null,
            "justify_content": null,
            "justify_items": null,
            "left": null,
            "margin": null,
            "max_height": null,
            "max_width": null,
            "min_height": null,
            "min_width": null,
            "object_fit": null,
            "object_position": null,
            "order": null,
            "overflow": null,
            "overflow_x": null,
            "overflow_y": null,
            "padding": null,
            "right": null,
            "top": null,
            "visibility": null,
            "width": null
          }
        },
        "5d913bd1e1104f4099ce36d9e8950bc2": {
          "model_module": "@jupyter-widgets/controls",
          "model_name": "DescriptionStyleModel",
          "model_module_version": "1.5.0",
          "state": {
            "_model_module": "@jupyter-widgets/controls",
            "_model_module_version": "1.5.0",
            "_model_name": "DescriptionStyleModel",
            "_view_count": null,
            "_view_module": "@jupyter-widgets/base",
            "_view_module_version": "1.2.0",
            "_view_name": "StyleView",
            "description_width": ""
          }
        },
        "84b98f788b0d40f0908cad249ac1cbfb": {
          "model_module": "@jupyter-widgets/base",
          "model_name": "LayoutModel",
          "model_module_version": "1.2.0",
          "state": {
            "_model_module": "@jupyter-widgets/base",
            "_model_module_version": "1.2.0",
            "_model_name": "LayoutModel",
            "_view_count": null,
            "_view_module": "@jupyter-widgets/base",
            "_view_module_version": "1.2.0",
            "_view_name": "LayoutView",
            "align_content": null,
            "align_items": null,
            "align_self": null,
            "border": null,
            "bottom": null,
            "display": null,
            "flex": null,
            "flex_flow": null,
            "grid_area": null,
            "grid_auto_columns": null,
            "grid_auto_flow": null,
            "grid_auto_rows": null,
            "grid_column": null,
            "grid_gap": null,
            "grid_row": null,
            "grid_template_areas": null,
            "grid_template_columns": null,
            "grid_template_rows": null,
            "height": null,
            "justify_content": null,
            "justify_items": null,
            "left": null,
            "margin": null,
            "max_height": null,
            "max_width": null,
            "min_height": null,
            "min_width": null,
            "object_fit": null,
            "object_position": null,
            "order": null,
            "overflow": null,
            "overflow_x": null,
            "overflow_y": null,
            "padding": null,
            "right": null,
            "top": null,
            "visibility": null,
            "width": null
          }
        },
        "3c4412c09362423ead05cfea5734f5a5": {
          "model_module": "@jupyter-widgets/controls",
          "model_name": "ProgressStyleModel",
          "model_module_version": "1.5.0",
          "state": {
            "_model_module": "@jupyter-widgets/controls",
            "_model_module_version": "1.5.0",
            "_model_name": "ProgressStyleModel",
            "_view_count": null,
            "_view_module": "@jupyter-widgets/base",
            "_view_module_version": "1.2.0",
            "_view_name": "StyleView",
            "bar_color": null,
            "description_width": ""
          }
        },
        "7ae73f5000104b0793fba108e8dc27b4": {
          "model_module": "@jupyter-widgets/base",
          "model_name": "LayoutModel",
          "model_module_version": "1.2.0",
          "state": {
            "_model_module": "@jupyter-widgets/base",
            "_model_module_version": "1.2.0",
            "_model_name": "LayoutModel",
            "_view_count": null,
            "_view_module": "@jupyter-widgets/base",
            "_view_module_version": "1.2.0",
            "_view_name": "LayoutView",
            "align_content": null,
            "align_items": null,
            "align_self": null,
            "border": null,
            "bottom": null,
            "display": null,
            "flex": null,
            "flex_flow": null,
            "grid_area": null,
            "grid_auto_columns": null,
            "grid_auto_flow": null,
            "grid_auto_rows": null,
            "grid_column": null,
            "grid_gap": null,
            "grid_row": null,
            "grid_template_areas": null,
            "grid_template_columns": null,
            "grid_template_rows": null,
            "height": null,
            "justify_content": null,
            "justify_items": null,
            "left": null,
            "margin": null,
            "max_height": null,
            "max_width": null,
            "min_height": null,
            "min_width": null,
            "object_fit": null,
            "object_position": null,
            "order": null,
            "overflow": null,
            "overflow_x": null,
            "overflow_y": null,
            "padding": null,
            "right": null,
            "top": null,
            "visibility": null,
            "width": null
          }
        },
        "6bb04ee62d04493f94bc97dd7093adb5": {
          "model_module": "@jupyter-widgets/controls",
          "model_name": "DescriptionStyleModel",
          "model_module_version": "1.5.0",
          "state": {
            "_model_module": "@jupyter-widgets/controls",
            "_model_module_version": "1.5.0",
            "_model_name": "DescriptionStyleModel",
            "_view_count": null,
            "_view_module": "@jupyter-widgets/base",
            "_view_module_version": "1.2.0",
            "_view_name": "StyleView",
            "description_width": ""
          }
        },
        "63c95b42a3a24042ab78f6e368d7c122": {
          "model_module": "@jupyter-widgets/controls",
          "model_name": "HBoxModel",
          "model_module_version": "1.5.0",
          "state": {
            "_dom_classes": [],
            "_model_module": "@jupyter-widgets/controls",
            "_model_module_version": "1.5.0",
            "_model_name": "HBoxModel",
            "_view_count": null,
            "_view_module": "@jupyter-widgets/controls",
            "_view_module_version": "1.5.0",
            "_view_name": "HBoxView",
            "box_style": "",
            "children": [
              "IPY_MODEL_a2cbe89d797a4f70a87aecbe45807562",
              "IPY_MODEL_d559279baaf741b1b9a62b0e18726030",
              "IPY_MODEL_d8c23990169145eca1d529d98b4948da"
            ],
            "layout": "IPY_MODEL_84e0a81b77664b05a3be3971b5fdb4cf"
          }
        },
        "a2cbe89d797a4f70a87aecbe45807562": {
          "model_module": "@jupyter-widgets/controls",
          "model_name": "HTMLModel",
          "model_module_version": "1.5.0",
          "state": {
            "_dom_classes": [],
            "_model_module": "@jupyter-widgets/controls",
            "_model_module_version": "1.5.0",
            "_model_name": "HTMLModel",
            "_view_count": null,
            "_view_module": "@jupyter-widgets/controls",
            "_view_module_version": "1.5.0",
            "_view_name": "HTMLView",
            "description": "",
            "description_tooltip": null,
            "layout": "IPY_MODEL_e299e8fb8acf4b8eb4a3ebfcc6294831",
            "placeholder": "​",
            "style": "IPY_MODEL_a4fdbb037af74dfbb7bb885e5644d325",
            "value": "model.safetensors: 100%"
          }
        },
        "d559279baaf741b1b9a62b0e18726030": {
          "model_module": "@jupyter-widgets/controls",
          "model_name": "FloatProgressModel",
          "model_module_version": "1.5.0",
          "state": {
            "_dom_classes": [],
            "_model_module": "@jupyter-widgets/controls",
            "_model_module_version": "1.5.0",
            "_model_name": "FloatProgressModel",
            "_view_count": null,
            "_view_module": "@jupyter-widgets/controls",
            "_view_module_version": "1.5.0",
            "_view_name": "ProgressView",
            "bar_style": "success",
            "description": "",
            "description_tooltip": null,
            "layout": "IPY_MODEL_1abecd354dcf4a5fa39a2ac26b0a3a44",
            "max": 267954768,
            "min": 0,
            "orientation": "horizontal",
            "style": "IPY_MODEL_bb1cde1bd4d746199cd8a5398eedac1c",
            "value": 267954768
          }
        },
        "d8c23990169145eca1d529d98b4948da": {
          "model_module": "@jupyter-widgets/controls",
          "model_name": "HTMLModel",
          "model_module_version": "1.5.0",
          "state": {
            "_dom_classes": [],
            "_model_module": "@jupyter-widgets/controls",
            "_model_module_version": "1.5.0",
            "_model_name": "HTMLModel",
            "_view_count": null,
            "_view_module": "@jupyter-widgets/controls",
            "_view_module_version": "1.5.0",
            "_view_name": "HTMLView",
            "description": "",
            "description_tooltip": null,
            "layout": "IPY_MODEL_53aeccdc68cb431c9501777427b8d1df",
            "placeholder": "​",
            "style": "IPY_MODEL_e2ed77ef56e74b3fa6e8bfc4cae9481d",
            "value": " 268M/268M [00:01&lt;00:00, 197MB/s]"
          }
        },
        "84e0a81b77664b05a3be3971b5fdb4cf": {
          "model_module": "@jupyter-widgets/base",
          "model_name": "LayoutModel",
          "model_module_version": "1.2.0",
          "state": {
            "_model_module": "@jupyter-widgets/base",
            "_model_module_version": "1.2.0",
            "_model_name": "LayoutModel",
            "_view_count": null,
            "_view_module": "@jupyter-widgets/base",
            "_view_module_version": "1.2.0",
            "_view_name": "LayoutView",
            "align_content": null,
            "align_items": null,
            "align_self": null,
            "border": null,
            "bottom": null,
            "display": null,
            "flex": null,
            "flex_flow": null,
            "grid_area": null,
            "grid_auto_columns": null,
            "grid_auto_flow": null,
            "grid_auto_rows": null,
            "grid_column": null,
            "grid_gap": null,
            "grid_row": null,
            "grid_template_areas": null,
            "grid_template_columns": null,
            "grid_template_rows": null,
            "height": null,
            "justify_content": null,
            "justify_items": null,
            "left": null,
            "margin": null,
            "max_height": null,
            "max_width": null,
            "min_height": null,
            "min_width": null,
            "object_fit": null,
            "object_position": null,
            "order": null,
            "overflow": null,
            "overflow_x": null,
            "overflow_y": null,
            "padding": null,
            "right": null,
            "top": null,
            "visibility": null,
            "width": null
          }
        },
        "e299e8fb8acf4b8eb4a3ebfcc6294831": {
          "model_module": "@jupyter-widgets/base",
          "model_name": "LayoutModel",
          "model_module_version": "1.2.0",
          "state": {
            "_model_module": "@jupyter-widgets/base",
            "_model_module_version": "1.2.0",
            "_model_name": "LayoutModel",
            "_view_count": null,
            "_view_module": "@jupyter-widgets/base",
            "_view_module_version": "1.2.0",
            "_view_name": "LayoutView",
            "align_content": null,
            "align_items": null,
            "align_self": null,
            "border": null,
            "bottom": null,
            "display": null,
            "flex": null,
            "flex_flow": null,
            "grid_area": null,
            "grid_auto_columns": null,
            "grid_auto_flow": null,
            "grid_auto_rows": null,
            "grid_column": null,
            "grid_gap": null,
            "grid_row": null,
            "grid_template_areas": null,
            "grid_template_columns": null,
            "grid_template_rows": null,
            "height": null,
            "justify_content": null,
            "justify_items": null,
            "left": null,
            "margin": null,
            "max_height": null,
            "max_width": null,
            "min_height": null,
            "min_width": null,
            "object_fit": null,
            "object_position": null,
            "order": null,
            "overflow": null,
            "overflow_x": null,
            "overflow_y": null,
            "padding": null,
            "right": null,
            "top": null,
            "visibility": null,
            "width": null
          }
        },
        "a4fdbb037af74dfbb7bb885e5644d325": {
          "model_module": "@jupyter-widgets/controls",
          "model_name": "DescriptionStyleModel",
          "model_module_version": "1.5.0",
          "state": {
            "_model_module": "@jupyter-widgets/controls",
            "_model_module_version": "1.5.0",
            "_model_name": "DescriptionStyleModel",
            "_view_count": null,
            "_view_module": "@jupyter-widgets/base",
            "_view_module_version": "1.2.0",
            "_view_name": "StyleView",
            "description_width": ""
          }
        },
        "1abecd354dcf4a5fa39a2ac26b0a3a44": {
          "model_module": "@jupyter-widgets/base",
          "model_name": "LayoutModel",
          "model_module_version": "1.2.0",
          "state": {
            "_model_module": "@jupyter-widgets/base",
            "_model_module_version": "1.2.0",
            "_model_name": "LayoutModel",
            "_view_count": null,
            "_view_module": "@jupyter-widgets/base",
            "_view_module_version": "1.2.0",
            "_view_name": "LayoutView",
            "align_content": null,
            "align_items": null,
            "align_self": null,
            "border": null,
            "bottom": null,
            "display": null,
            "flex": null,
            "flex_flow": null,
            "grid_area": null,
            "grid_auto_columns": null,
            "grid_auto_flow": null,
            "grid_auto_rows": null,
            "grid_column": null,
            "grid_gap": null,
            "grid_row": null,
            "grid_template_areas": null,
            "grid_template_columns": null,
            "grid_template_rows": null,
            "height": null,
            "justify_content": null,
            "justify_items": null,
            "left": null,
            "margin": null,
            "max_height": null,
            "max_width": null,
            "min_height": null,
            "min_width": null,
            "object_fit": null,
            "object_position": null,
            "order": null,
            "overflow": null,
            "overflow_x": null,
            "overflow_y": null,
            "padding": null,
            "right": null,
            "top": null,
            "visibility": null,
            "width": null
          }
        },
        "bb1cde1bd4d746199cd8a5398eedac1c": {
          "model_module": "@jupyter-widgets/controls",
          "model_name": "ProgressStyleModel",
          "model_module_version": "1.5.0",
          "state": {
            "_model_module": "@jupyter-widgets/controls",
            "_model_module_version": "1.5.0",
            "_model_name": "ProgressStyleModel",
            "_view_count": null,
            "_view_module": "@jupyter-widgets/base",
            "_view_module_version": "1.2.0",
            "_view_name": "StyleView",
            "bar_color": null,
            "description_width": ""
          }
        },
        "53aeccdc68cb431c9501777427b8d1df": {
          "model_module": "@jupyter-widgets/base",
          "model_name": "LayoutModel",
          "model_module_version": "1.2.0",
          "state": {
            "_model_module": "@jupyter-widgets/base",
            "_model_module_version": "1.2.0",
            "_model_name": "LayoutModel",
            "_view_count": null,
            "_view_module": "@jupyter-widgets/base",
            "_view_module_version": "1.2.0",
            "_view_name": "LayoutView",
            "align_content": null,
            "align_items": null,
            "align_self": null,
            "border": null,
            "bottom": null,
            "display": null,
            "flex": null,
            "flex_flow": null,
            "grid_area": null,
            "grid_auto_columns": null,
            "grid_auto_flow": null,
            "grid_auto_rows": null,
            "grid_column": null,
            "grid_gap": null,
            "grid_row": null,
            "grid_template_areas": null,
            "grid_template_columns": null,
            "grid_template_rows": null,
            "height": null,
            "justify_content": null,
            "justify_items": null,
            "left": null,
            "margin": null,
            "max_height": null,
            "max_width": null,
            "min_height": null,
            "min_width": null,
            "object_fit": null,
            "object_position": null,
            "order": null,
            "overflow": null,
            "overflow_x": null,
            "overflow_y": null,
            "padding": null,
            "right": null,
            "top": null,
            "visibility": null,
            "width": null
          }
        },
        "e2ed77ef56e74b3fa6e8bfc4cae9481d": {
          "model_module": "@jupyter-widgets/controls",
          "model_name": "DescriptionStyleModel",
          "model_module_version": "1.5.0",
          "state": {
            "_model_module": "@jupyter-widgets/controls",
            "_model_module_version": "1.5.0",
            "_model_name": "DescriptionStyleModel",
            "_view_count": null,
            "_view_module": "@jupyter-widgets/base",
            "_view_module_version": "1.2.0",
            "_view_name": "StyleView",
            "description_width": ""
          }
        }
      }
    }
  },
  "nbformat": 4,
  "nbformat_minor": 0
}
